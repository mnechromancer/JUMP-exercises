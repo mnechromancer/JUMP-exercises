{
  "nbformat": 4,
  "nbformat_minor": 0,
  "metadata": {
    "colab": {
      "name": "PySpark_Cars.ipynb",
      "provenance": [],
      "include_colab_link": true
    },
    "kernelspec": {
      "name": "python3",
      "display_name": "Python 3"
    },
    "language_info": {
      "name": "python"
    }
  },
  "cells": [
    {
      "cell_type": "markdown",
      "metadata": {
        "id": "view-in-github",
        "colab_type": "text"
      },
      "source": [
        "<a href=\"https://colab.research.google.com/github/mnechromancer/JUMP-exercises/blob/main/PySpark_Cars.ipynb\" target=\"_parent\"><img src=\"https://colab.research.google.com/assets/colab-badge.svg\" alt=\"Open In Colab\"/></a>"
      ]
    },
    {
      "cell_type": "markdown",
      "source": [
        "Apache Spark is written is Scala, an Object-Functional language that runs on the Java Virtual Machine(jvm).  In order to run Spark, we must install a compatiable version of Java into our virtual environment.  In this case, Java 8."
      ],
      "metadata": {
        "id": "vusxHUH5cYwA"
      }
    },
    {
      "cell_type": "code",
      "source": [
        "!apt-get install openjdk-8-jdk-headless -qq > /dev/null"
      ],
      "metadata": {
        "id": "Sa1suy9ddJmd"
      },
      "execution_count": 1,
      "outputs": []
    },
    {
      "cell_type": "markdown",
      "source": [
        "Next, we must install a version of Spark from an online repository, and unarchive the file."
      ],
      "metadata": {
        "id": "aEIoRZxEc0kQ"
      }
    },
    {
      "cell_type": "code",
      "execution_count": 2,
      "metadata": {
        "id": "prxJbjzVq63S"
      },
      "outputs": [],
      "source": [
        "!wget -q https://dlcdn.apache.org/spark/spark-3.2.1/spark-3.2.1-bin-hadoop3.2.tgz\n",
        "!tar xf spark-3.2.1-bin-hadoop3.2.tgz"
      ]
    },
    {
      "cell_type": "markdown",
      "source": [
        "PySpark is a Python API for Spark, allowing us to access Spark Functionality through Python code.  The findsaprk package will allow us to load Spark into our Python environment"
      ],
      "metadata": {
        "id": "zUUbQlz1dETO"
      }
    },
    {
      "cell_type": "code",
      "source": [
        "!pip install -q findspark"
      ],
      "metadata": {
        "id": "CHuMf8V3dFRa"
      },
      "execution_count": 3,
      "outputs": []
    },
    {
      "cell_type": "markdown",
      "source": [
        "Setting Up Environment Variables\n",
        "\n",
        "Python will use these environment variables to access the "
      ],
      "metadata": {
        "id": "oNvCF6i8d1V8"
      }
    },
    {
      "cell_type": "code",
      "source": [
        "import os\n",
        "os.environ[\"JAVA_HOME\"] = \"/usr/lib/jvm/java-8-openjdk-amd64\"\n",
        "os.environ[\"SPARK_HOME\"] = \"/content/spark-3.2.1-bin-hadoop3.2\""
      ],
      "metadata": {
        "id": "qUKDQ1pfsdrR"
      },
      "execution_count": 4,
      "outputs": []
    },
    {
      "cell_type": "markdown",
      "source": [
        "Setting up a Session\n",
        "\n",
        "Spark Session is the entry point to SparkSQL, which will allow uas to create Spark RDDs and DataFrames"
      ],
      "metadata": {
        "id": "P6Ky3LCXeFXd"
      }
    },
    {
      "cell_type": "code",
      "source": [
        "import findspark\n",
        "findspark.init()\n",
        "from pyspark.sql import SparkSession\n",
        "spark = SparkSession.builder.master(\"local[*]\").getOrCreate()"
      ],
      "metadata": {
        "id": "BKSWX-T9sgO7"
      },
      "execution_count": 5,
      "outputs": []
    },
    {
      "cell_type": "code",
      "source": [
        "spark = SparkSession.builder\\\n",
        "        .master(\"local\")\\\n",
        "        .appName(\"Colab\")\\\n",
        "        .config('spark.ui.port', '4050')\\\n",
        "        .getOrCreate()\n",
        "spark"
      ],
      "metadata": {
        "id": "Gxq1W0Tzt_1v",
        "colab": {
          "base_uri": "https://localhost:8080/",
          "height": 219
        },
        "outputId": "76f44f31-bd8d-4c96-bc33-ca6a9a077658"
      },
      "execution_count": 6,
      "outputs": [
        {
          "output_type": "execute_result",
          "data": {
            "text/plain": [
              "<pyspark.sql.session.SparkSession at 0x7f24b76ed910>"
            ],
            "text/html": [
              "\n",
              "            <div>\n",
              "                <p><b>SparkSession - in-memory</b></p>\n",
              "                \n",
              "        <div>\n",
              "            <p><b>SparkContext</b></p>\n",
              "\n",
              "            <p><a href=\"http://eb494606a0c4:4040\">Spark UI</a></p>\n",
              "\n",
              "            <dl>\n",
              "              <dt>Version</dt>\n",
              "                <dd><code>v3.2.1</code></dd>\n",
              "              <dt>Master</dt>\n",
              "                <dd><code>local[*]</code></dd>\n",
              "              <dt>AppName</dt>\n",
              "                <dd><code>pyspark-shell</code></dd>\n",
              "            </dl>\n",
              "        </div>\n",
              "        \n",
              "            </div>\n",
              "        "
            ]
          },
          "metadata": {},
          "execution_count": 6
        }
      ]
    },
    {
      "cell_type": "markdown",
      "source": [
        "# Make df from csv"
      ],
      "metadata": {
        "id": "OHjIjHZBGdNE"
      }
    },
    {
      "cell_type": "code",
      "source": [
        "cars = spark.read.options(header=\"true\", inferSchema=\"true\").csv('/content/car_sales_table.csv')\n",
        "cars.show()"
      ],
      "metadata": {
        "colab": {
          "base_uri": "https://localhost:8080/"
        },
        "id": "km3arsvPwFP-",
        "outputId": "cd70a948-3aca-411d-f2e3-c34970278148"
      },
      "execution_count": 7,
      "outputs": [
        {
          "output_type": "stream",
          "name": "stdout",
          "text": [
            "+-------+------------+-------------+-------+-----------+---------+----------+---------+-----------------+-------+------------+\n",
            "|StockID|        Make|        Model|ColorID|VehicleType|CostPrice|SpareParts|LaborCost|Registration_Date|Mileage|PurchaseDate|\n",
            "+-------+------------+-------------+-------+-----------+---------+----------+---------+-----------------+-------+------------+\n",
            "|      1| Rolls Royce|     Camargue|      1|     Saloon|    50000|       500|      750|         1/8/1985|  52500|    1/1/2012|\n",
            "|      2|Aston Martin|          DBS|      2|      Coupe|    75000|       600|      550|         5/9/2007|  75000|    1/1/2012|\n",
            "|      3| Rolls Royce| Silver Ghost|      3|     Saloon|    75000|       750|      550|         9/8/2006|  52500|    1/1/2012|\n",
            "|      4| Rolls Royce| Silver Ghost|      2|     Saloon|    88000|        85|      550|         1/5/1987| 127220|    1/1/2012|\n",
            "|      5| Rolls Royce|     Camargue|      5|     Saloon|    62000|      2500|      550|         1/8/1985|  52500|    1/1/2012|\n",
            "|      6| Rolls Royce|     Camargue|      8|     Saloon|   125000|      4000|      550|         5/6/1986|  28750|    1/1/2012|\n",
            "|      7|Aston Martin|          DBS|      9|      Coupe|    56000|       900|      550|         8/9/1991|  75000|    1/1/2012|\n",
            "|      8|Aston Martin|          DB7|      1|      Coupe|    23500|       900|      550|         5/8/1992|  52500|    1/1/2012|\n",
            "|      9|Aston Martin|          DB9|      2|      Coupe|    15500|       900|      750|         9/8/2005|   9950|    1/1/2012|\n",
            "|     10|Aston Martin|          DB9|      4|      Coupe|    75890|       750|      750|         5/8/1993|  28750|    1/1/2012|\n",
            "|     11|Aston Martin|          DB4|      6|      Coupe|    99000|       750|      750|         5/6/1975|  52500|    1/1/2012|\n",
            "|     12|Aston Martin|      Vantage|      5|      Coupe|   125000|       750|      750|        1/15/1985|  75000|    1/1/2012|\n",
            "|     13|Aston Martin|     Vanquish|      6|      Coupe|   125000|       600|      750|        3/29/1979| 127220|    1/1/2012|\n",
            "|     14|Aston Martin|       Rapide|      7|      Coupe|   155000|       600|      570|         9/8/2004|  52500|    1/1/2012|\n",
            "|     15|Aston Martin|       Zagato|      8|      Coupe|   125000|       600|      570|         6/4/1994|   8000|    1/1/2012|\n",
            "|     16| Rolls Royce| Silver Ghost|      5|     Saloon|    62000|       600|      570|         9/8/2006|  52500|    1/1/2012|\n",
            "|     17| Rolls Royce|       Wraith|      4|     Saloon|    62000|       600|      654|         9/1/2000|  65250|    1/1/2012|\n",
            "|     18| Rolls Royce| Silver Ghost|      3|     Saloon|    75890|       600|      987|        5/10/1997|  52500|    1/1/2012|\n",
            "|     19| Rolls Royce|     Camargue|      2|     Saloon|    62000|       600|      654|         9/1/2001|  28750|    1/1/2012|\n",
            "|     20| Rolls Royce|Silver Shadow|      1|     Saloon|    75890|       450|      321|         6/8/2005|  52500|    1/1/2012|\n",
            "+-------+------------+-------------+-------+-----------+---------+----------+---------+-----------------+-------+------------+\n",
            "only showing top 20 rows\n",
            "\n"
          ]
        }
      ]
    },
    {
      "cell_type": "markdown",
      "source": [
        "# This won't work"
      ],
      "metadata": {
        "id": "jFEfJSQnGmRO"
      }
    },
    {
      "cell_type": "code",
      "source": [
        "cars.index = cars.StockID\n",
        "cars.show()"
      ],
      "metadata": {
        "colab": {
          "base_uri": "https://localhost:8080/"
        },
        "id": "BywLbP4k1bo2",
        "outputId": "9aa93872-8405-49a7-a7ae-9170b077209d"
      },
      "execution_count": 8,
      "outputs": [
        {
          "output_type": "stream",
          "name": "stdout",
          "text": [
            "+-------+------------+-------------+-------+-----------+---------+----------+---------+-----------------+-------+------------+\n",
            "|StockID|        Make|        Model|ColorID|VehicleType|CostPrice|SpareParts|LaborCost|Registration_Date|Mileage|PurchaseDate|\n",
            "+-------+------------+-------------+-------+-----------+---------+----------+---------+-----------------+-------+------------+\n",
            "|      1| Rolls Royce|     Camargue|      1|     Saloon|    50000|       500|      750|         1/8/1985|  52500|    1/1/2012|\n",
            "|      2|Aston Martin|          DBS|      2|      Coupe|    75000|       600|      550|         5/9/2007|  75000|    1/1/2012|\n",
            "|      3| Rolls Royce| Silver Ghost|      3|     Saloon|    75000|       750|      550|         9/8/2006|  52500|    1/1/2012|\n",
            "|      4| Rolls Royce| Silver Ghost|      2|     Saloon|    88000|        85|      550|         1/5/1987| 127220|    1/1/2012|\n",
            "|      5| Rolls Royce|     Camargue|      5|     Saloon|    62000|      2500|      550|         1/8/1985|  52500|    1/1/2012|\n",
            "|      6| Rolls Royce|     Camargue|      8|     Saloon|   125000|      4000|      550|         5/6/1986|  28750|    1/1/2012|\n",
            "|      7|Aston Martin|          DBS|      9|      Coupe|    56000|       900|      550|         8/9/1991|  75000|    1/1/2012|\n",
            "|      8|Aston Martin|          DB7|      1|      Coupe|    23500|       900|      550|         5/8/1992|  52500|    1/1/2012|\n",
            "|      9|Aston Martin|          DB9|      2|      Coupe|    15500|       900|      750|         9/8/2005|   9950|    1/1/2012|\n",
            "|     10|Aston Martin|          DB9|      4|      Coupe|    75890|       750|      750|         5/8/1993|  28750|    1/1/2012|\n",
            "|     11|Aston Martin|          DB4|      6|      Coupe|    99000|       750|      750|         5/6/1975|  52500|    1/1/2012|\n",
            "|     12|Aston Martin|      Vantage|      5|      Coupe|   125000|       750|      750|        1/15/1985|  75000|    1/1/2012|\n",
            "|     13|Aston Martin|     Vanquish|      6|      Coupe|   125000|       600|      750|        3/29/1979| 127220|    1/1/2012|\n",
            "|     14|Aston Martin|       Rapide|      7|      Coupe|   155000|       600|      570|         9/8/2004|  52500|    1/1/2012|\n",
            "|     15|Aston Martin|       Zagato|      8|      Coupe|   125000|       600|      570|         6/4/1994|   8000|    1/1/2012|\n",
            "|     16| Rolls Royce| Silver Ghost|      5|     Saloon|    62000|       600|      570|         9/8/2006|  52500|    1/1/2012|\n",
            "|     17| Rolls Royce|       Wraith|      4|     Saloon|    62000|       600|      654|         9/1/2000|  65250|    1/1/2012|\n",
            "|     18| Rolls Royce| Silver Ghost|      3|     Saloon|    75890|       600|      987|        5/10/1997|  52500|    1/1/2012|\n",
            "|     19| Rolls Royce|     Camargue|      2|     Saloon|    62000|       600|      654|         9/1/2001|  28750|    1/1/2012|\n",
            "|     20| Rolls Royce|Silver Shadow|      1|     Saloon|    75890|       450|      321|         6/8/2005|  52500|    1/1/2012|\n",
            "+-------+------------+-------------+-------+-----------+---------+----------+---------+-----------------+-------+------------+\n",
            "only showing top 20 rows\n",
            "\n"
          ]
        }
      ]
    },
    {
      "cell_type": "markdown",
      "source": [
        "# This kind of works"
      ],
      "metadata": {
        "id": "1jpEz-5LGn8r"
      }
    },
    {
      "cell_type": "code",
      "source": [
        "cars = cars.withColumnRenamed(\"StockID\", \"Index\")\n",
        "cars.show()"
      ],
      "metadata": {
        "colab": {
          "base_uri": "https://localhost:8080/"
        },
        "id": "jL5qbCrb3IiC",
        "outputId": "b062cf58-03cd-487b-e932-b1ce7f0f8592"
      },
      "execution_count": 9,
      "outputs": [
        {
          "output_type": "stream",
          "name": "stdout",
          "text": [
            "+-----+------------+-------------+-------+-----------+---------+----------+---------+-----------------+-------+------------+\n",
            "|Index|        Make|        Model|ColorID|VehicleType|CostPrice|SpareParts|LaborCost|Registration_Date|Mileage|PurchaseDate|\n",
            "+-----+------------+-------------+-------+-----------+---------+----------+---------+-----------------+-------+------------+\n",
            "|    1| Rolls Royce|     Camargue|      1|     Saloon|    50000|       500|      750|         1/8/1985|  52500|    1/1/2012|\n",
            "|    2|Aston Martin|          DBS|      2|      Coupe|    75000|       600|      550|         5/9/2007|  75000|    1/1/2012|\n",
            "|    3| Rolls Royce| Silver Ghost|      3|     Saloon|    75000|       750|      550|         9/8/2006|  52500|    1/1/2012|\n",
            "|    4| Rolls Royce| Silver Ghost|      2|     Saloon|    88000|        85|      550|         1/5/1987| 127220|    1/1/2012|\n",
            "|    5| Rolls Royce|     Camargue|      5|     Saloon|    62000|      2500|      550|         1/8/1985|  52500|    1/1/2012|\n",
            "|    6| Rolls Royce|     Camargue|      8|     Saloon|   125000|      4000|      550|         5/6/1986|  28750|    1/1/2012|\n",
            "|    7|Aston Martin|          DBS|      9|      Coupe|    56000|       900|      550|         8/9/1991|  75000|    1/1/2012|\n",
            "|    8|Aston Martin|          DB7|      1|      Coupe|    23500|       900|      550|         5/8/1992|  52500|    1/1/2012|\n",
            "|    9|Aston Martin|          DB9|      2|      Coupe|    15500|       900|      750|         9/8/2005|   9950|    1/1/2012|\n",
            "|   10|Aston Martin|          DB9|      4|      Coupe|    75890|       750|      750|         5/8/1993|  28750|    1/1/2012|\n",
            "|   11|Aston Martin|          DB4|      6|      Coupe|    99000|       750|      750|         5/6/1975|  52500|    1/1/2012|\n",
            "|   12|Aston Martin|      Vantage|      5|      Coupe|   125000|       750|      750|        1/15/1985|  75000|    1/1/2012|\n",
            "|   13|Aston Martin|     Vanquish|      6|      Coupe|   125000|       600|      750|        3/29/1979| 127220|    1/1/2012|\n",
            "|   14|Aston Martin|       Rapide|      7|      Coupe|   155000|       600|      570|         9/8/2004|  52500|    1/1/2012|\n",
            "|   15|Aston Martin|       Zagato|      8|      Coupe|   125000|       600|      570|         6/4/1994|   8000|    1/1/2012|\n",
            "|   16| Rolls Royce| Silver Ghost|      5|     Saloon|    62000|       600|      570|         9/8/2006|  52500|    1/1/2012|\n",
            "|   17| Rolls Royce|       Wraith|      4|     Saloon|    62000|       600|      654|         9/1/2000|  65250|    1/1/2012|\n",
            "|   18| Rolls Royce| Silver Ghost|      3|     Saloon|    75890|       600|      987|        5/10/1997|  52500|    1/1/2012|\n",
            "|   19| Rolls Royce|     Camargue|      2|     Saloon|    62000|       600|      654|         9/1/2001|  28750|    1/1/2012|\n",
            "|   20| Rolls Royce|Silver Shadow|      1|     Saloon|    75890|       450|      321|         6/8/2005|  52500|    1/1/2012|\n",
            "+-----+------------+-------------+-------+-----------+---------+----------+---------+-----------------+-------+------------+\n",
            "only showing top 20 rows\n",
            "\n"
          ]
        }
      ]
    },
    {
      "cell_type": "markdown",
      "source": [
        "# Indexes (sort of)"
      ],
      "metadata": {
        "id": "AWV-gT-MGr9j"
      }
    },
    {
      "cell_type": "code",
      "source": [
        "cars.collect()[2:5]\n",
        "# or\n",
        "cars.filter(cars.Index.isin([3, 4, 5])).show()"
      ],
      "metadata": {
        "colab": {
          "base_uri": "https://localhost:8080/"
        },
        "id": "KBD_LorB5FTE",
        "outputId": "f6664a18-db07-4a31-e45c-654661c90bec"
      },
      "execution_count": 10,
      "outputs": [
        {
          "output_type": "stream",
          "name": "stdout",
          "text": [
            "+-----+-----------+------------+-------+-----------+---------+----------+---------+-----------------+-------+------------+\n",
            "|Index|       Make|       Model|ColorID|VehicleType|CostPrice|SpareParts|LaborCost|Registration_Date|Mileage|PurchaseDate|\n",
            "+-----+-----------+------------+-------+-----------+---------+----------+---------+-----------------+-------+------------+\n",
            "|    3|Rolls Royce|Silver Ghost|      3|     Saloon|    75000|       750|      550|         9/8/2006|  52500|    1/1/2012|\n",
            "|    4|Rolls Royce|Silver Ghost|      2|     Saloon|    88000|        85|      550|         1/5/1987| 127220|    1/1/2012|\n",
            "|    5|Rolls Royce|    Camargue|      5|     Saloon|    62000|      2500|      550|         1/8/1985|  52500|    1/1/2012|\n",
            "+-----+-----------+------------+-------+-----------+---------+----------+---------+-----------------+-------+------------+\n",
            "\n"
          ]
        }
      ]
    },
    {
      "cell_type": "code",
      "source": [
        "cars.collect()[3:6]\n",
        "# or\n",
        "cars.filter(cars.Index.isin([4, 5, 6])).show()"
      ],
      "metadata": {
        "colab": {
          "base_uri": "https://localhost:8080/"
        },
        "id": "naXsqxjh5jmN",
        "outputId": "3e1f565a-4276-4d0b-ba8c-324ae239c870"
      },
      "execution_count": 11,
      "outputs": [
        {
          "output_type": "stream",
          "name": "stdout",
          "text": [
            "+-----+-----------+------------+-------+-----------+---------+----------+---------+-----------------+-------+------------+\n",
            "|Index|       Make|       Model|ColorID|VehicleType|CostPrice|SpareParts|LaborCost|Registration_Date|Mileage|PurchaseDate|\n",
            "+-----+-----------+------------+-------+-----------+---------+----------+---------+-----------------+-------+------------+\n",
            "|    4|Rolls Royce|Silver Ghost|      2|     Saloon|    88000|        85|      550|         1/5/1987| 127220|    1/1/2012|\n",
            "|    5|Rolls Royce|    Camargue|      5|     Saloon|    62000|      2500|      550|         1/8/1985|  52500|    1/1/2012|\n",
            "|    6|Rolls Royce|    Camargue|      8|     Saloon|   125000|      4000|      550|         5/6/1986|  28750|    1/1/2012|\n",
            "+-----+-----------+------------+-------+-----------+---------+----------+---------+-----------------+-------+------------+\n",
            "\n"
          ]
        }
      ]
    },
    {
      "cell_type": "markdown",
      "source": [
        "# Aggregates"
      ],
      "metadata": {
        "id": "fVTDSXYZG4qa"
      }
    },
    {
      "cell_type": "code",
      "source": [
        "max_mileage_row = max(cars.select(\"Mileage\").collect())\n",
        "print(f\"Maximum mileage: {max_mileage_row.Mileage}\")"
      ],
      "metadata": {
        "colab": {
          "base_uri": "https://localhost:8080/"
        },
        "id": "9-qyAYSV54vS",
        "outputId": "9c8ed1ef-8439-414e-f496-d4ef1aa7d05f"
      },
      "execution_count": 12,
      "outputs": [
        {
          "output_type": "stream",
          "name": "stdout",
          "text": [
            "Maximum mileage: 161000\n"
          ]
        }
      ]
    },
    {
      "cell_type": "code",
      "source": [
        "CostPrice_col_ints = [i.CostPrice for i in cars.select(\"CostPrice\").collect()]\n",
        "costPrice_sum = sum(CostPrice_col_ints)\n",
        "print(f\"Sum of Cost: {costPrice_sum}\")"
      ],
      "metadata": {
        "colab": {
          "base_uri": "https://localhost:8080/"
        },
        "id": "PKITfQ4C8E4S",
        "outputId": "a1fcb6ba-3f05-4c5f-989c-8ca30102e717"
      },
      "execution_count": 24,
      "outputs": [
        {
          "output_type": "stream",
          "name": "stdout",
          "text": [
            "Sum of Cost: 20510095\n"
          ]
        }
      ]
    },
    {
      "cell_type": "markdown",
      "source": [
        "# Makes and models"
      ],
      "metadata": {
        "id": "9VvpaCKsG6t0"
      }
    },
    {
      "cell_type": "code",
      "source": [
        "makes_and_models = cars.groupBy(\"Make\", \"Model\").count().select([\"Make\"]).groupby(\"Make\").count().withColumnRenamed(\"count\", \"Line Count\")\n",
        "makes_and_models.show()"
      ],
      "metadata": {
        "colab": {
          "base_uri": "https://localhost:8080/"
        },
        "id": "40leBiz88l3r",
        "outputId": "987f7bf8-ca11-48e3-cbe5-5e170fb50d0e"
      },
      "execution_count": 33,
      "outputs": [
        {
          "output_type": "stream",
          "name": "stdout",
          "text": [
            "+------------+----------+\n",
            "|        Make|Line Count|\n",
            "+------------+----------+\n",
            "|      Jaguar|         3|\n",
            "|         TVR|         2|\n",
            "| Rolls Royce|         6|\n",
            "|         MGB|         1|\n",
            "|     Triumph|         3|\n",
            "|     Bentley|         4|\n",
            "|Aston Martin|         8|\n",
            "+------------+----------+\n",
            "\n"
          ]
        }
      ]
    },
    {
      "cell_type": "markdown",
      "source": [
        "# Cost evaluations"
      ],
      "metadata": {
        "id": "BILe45ZuHAEQ"
      }
    },
    {
      "cell_type": "code",
      "source": [
        "total_cars = cars.groupBy(\"Make\").count().withColumnRenamed(\"count\", \"Total Count\")\n",
        "total_cars.show()"
      ],
      "metadata": {
        "colab": {
          "base_uri": "https://localhost:8080/"
        },
        "id": "FJDLIj3128Fp",
        "outputId": "cfc25ad7-0182-4c62-ae75-5712f78d931b"
      },
      "execution_count": 34,
      "outputs": [
        {
          "output_type": "stream",
          "name": "stdout",
          "text": [
            "+------------+-----------+\n",
            "|        Make|Total Count|\n",
            "+------------+-----------+\n",
            "|      Jaguar|        129|\n",
            "|         TVR|         15|\n",
            "| Rolls Royce|         63|\n",
            "|         MGB|         36|\n",
            "|     Triumph|         36|\n",
            "|     Bentley|         72|\n",
            "|Aston Martin|        110|\n",
            "+------------+-----------+\n",
            "\n"
          ]
        }
      ]
    },
    {
      "cell_type": "code",
      "source": [
        "cost_sums = cars.groupBy(\"Make\").sum(\"CostPrice\").withColumnRenamed(\"sum(CostPrice)\", \"Sum Product Worth\")\n",
        "cost_sums.show()"
      ],
      "metadata": {
        "colab": {
          "base_uri": "https://localhost:8080/"
        },
        "id": "XCjutHNT-fBS",
        "outputId": "47305dcd-38a7-4337-89f0-1dca34eada19"
      },
      "execution_count": 35,
      "outputs": [
        {
          "output_type": "stream",
          "name": "stdout",
          "text": [
            "+------------+-----------------+\n",
            "|        Make|Sum Product Worth|\n",
            "+------------+-----------------+\n",
            "|      Jaguar|          4899700|\n",
            "|         TVR|           612500|\n",
            "| Rolls Royce|          4116225|\n",
            "|         MGB|           342000|\n",
            "|     Triumph|           655500|\n",
            "|     Bentley|          3179400|\n",
            "|Aston Martin|          6704770|\n",
            "+------------+-----------------+\n",
            "\n"
          ]
        }
      ]
    },
    {
      "cell_type": "code",
      "source": [
        "cost_maxes = cars.groupBy(\"Make\").max(\"CostPrice\").withColumnRenamed(\"max(CostPrice)\", \"Highest Model Value\")\n",
        "cost_maxes.show()"
      ],
      "metadata": {
        "colab": {
          "base_uri": "https://localhost:8080/"
        },
        "id": "7FBSQvmh_NqU",
        "outputId": "b825b51e-16fa-4c26-c1cc-d42a1ad588e9"
      },
      "execution_count": 36,
      "outputs": [
        {
          "output_type": "stream",
          "name": "stdout",
          "text": [
            "+------------+-------------------+\n",
            "|        Make|Highest Model Value|\n",
            "+------------+-------------------+\n",
            "|      Jaguar|              67000|\n",
            "|         TVR|              42500|\n",
            "| Rolls Royce|             130000|\n",
            "|         MGB|              13500|\n",
            "|     Triumph|              22000|\n",
            "|     Bentley|              67000|\n",
            "|Aston Martin|             160000|\n",
            "+------------+-------------------+\n",
            "\n"
          ]
        }
      ]
    },
    {
      "cell_type": "code",
      "source": [
        "glom = makes_and_models.join(cost_sums, on=\"Make\").join(cost_maxes, on=\"Make\").join(total_cars, on=\"Make\")\n",
        "glom.show()"
      ],
      "metadata": {
        "colab": {
          "base_uri": "https://localhost:8080/"
        },
        "id": "zzEl2eKzRskm",
        "outputId": "8a74272c-97e3-4b0c-dfc9-dc50b55f970b"
      },
      "execution_count": 37,
      "outputs": [
        {
          "output_type": "stream",
          "name": "stdout",
          "text": [
            "+------------+----------+-----------------+-------------------+-----------+\n",
            "|        Make|Line Count|Sum Product Worth|Highest Model Value|Total Count|\n",
            "+------------+----------+-----------------+-------------------+-----------+\n",
            "|      Jaguar|         3|          4899700|              67000|        129|\n",
            "|         TVR|         2|           612500|              42500|         15|\n",
            "| Rolls Royce|         6|          4116225|             130000|         63|\n",
            "|         MGB|         1|           342000|              13500|         36|\n",
            "|     Triumph|         3|           655500|              22000|         36|\n",
            "|     Bentley|         4|          3179400|              67000|         72|\n",
            "|Aston Martin|         8|          6704770|             160000|        110|\n",
            "+------------+----------+-----------------+-------------------+-----------+\n",
            "\n"
          ]
        }
      ]
    },
    {
      "cell_type": "markdown",
      "source": [
        "# Add profits column"
      ],
      "metadata": {
        "id": "jvBE2O3QHDGC"
      }
    },
    {
      "cell_type": "code",
      "source": [
        "added_profits = cars.withColumn(\"Profit\", cars.CostPrice - (cars.LaborCost + cars.SpareParts))\n",
        "added_profits.show()"
      ],
      "metadata": {
        "colab": {
          "base_uri": "https://localhost:8080/"
        },
        "id": "qSTbeLov_WQH",
        "outputId": "c13947ec-4929-4738-a513-5f17070efe9f"
      },
      "execution_count": 18,
      "outputs": [
        {
          "output_type": "stream",
          "name": "stdout",
          "text": [
            "+-----+------------+-------------+-------+-----------+---------+----------+---------+-----------------+-------+------------+------+\n",
            "|Index|        Make|        Model|ColorID|VehicleType|CostPrice|SpareParts|LaborCost|Registration_Date|Mileage|PurchaseDate|Profit|\n",
            "+-----+------------+-------------+-------+-----------+---------+----------+---------+-----------------+-------+------------+------+\n",
            "|    1| Rolls Royce|     Camargue|      1|     Saloon|    50000|       500|      750|         1/8/1985|  52500|    1/1/2012| 48750|\n",
            "|    2|Aston Martin|          DBS|      2|      Coupe|    75000|       600|      550|         5/9/2007|  75000|    1/1/2012| 73850|\n",
            "|    3| Rolls Royce| Silver Ghost|      3|     Saloon|    75000|       750|      550|         9/8/2006|  52500|    1/1/2012| 73700|\n",
            "|    4| Rolls Royce| Silver Ghost|      2|     Saloon|    88000|        85|      550|         1/5/1987| 127220|    1/1/2012| 87365|\n",
            "|    5| Rolls Royce|     Camargue|      5|     Saloon|    62000|      2500|      550|         1/8/1985|  52500|    1/1/2012| 58950|\n",
            "|    6| Rolls Royce|     Camargue|      8|     Saloon|   125000|      4000|      550|         5/6/1986|  28750|    1/1/2012|120450|\n",
            "|    7|Aston Martin|          DBS|      9|      Coupe|    56000|       900|      550|         8/9/1991|  75000|    1/1/2012| 54550|\n",
            "|    8|Aston Martin|          DB7|      1|      Coupe|    23500|       900|      550|         5/8/1992|  52500|    1/1/2012| 22050|\n",
            "|    9|Aston Martin|          DB9|      2|      Coupe|    15500|       900|      750|         9/8/2005|   9950|    1/1/2012| 13850|\n",
            "|   10|Aston Martin|          DB9|      4|      Coupe|    75890|       750|      750|         5/8/1993|  28750|    1/1/2012| 74390|\n",
            "|   11|Aston Martin|          DB4|      6|      Coupe|    99000|       750|      750|         5/6/1975|  52500|    1/1/2012| 97500|\n",
            "|   12|Aston Martin|      Vantage|      5|      Coupe|   125000|       750|      750|        1/15/1985|  75000|    1/1/2012|123500|\n",
            "|   13|Aston Martin|     Vanquish|      6|      Coupe|   125000|       600|      750|        3/29/1979| 127220|    1/1/2012|123650|\n",
            "|   14|Aston Martin|       Rapide|      7|      Coupe|   155000|       600|      570|         9/8/2004|  52500|    1/1/2012|153830|\n",
            "|   15|Aston Martin|       Zagato|      8|      Coupe|   125000|       600|      570|         6/4/1994|   8000|    1/1/2012|123830|\n",
            "|   16| Rolls Royce| Silver Ghost|      5|     Saloon|    62000|       600|      570|         9/8/2006|  52500|    1/1/2012| 60830|\n",
            "|   17| Rolls Royce|       Wraith|      4|     Saloon|    62000|       600|      654|         9/1/2000|  65250|    1/1/2012| 60746|\n",
            "|   18| Rolls Royce| Silver Ghost|      3|     Saloon|    75890|       600|      987|        5/10/1997|  52500|    1/1/2012| 74303|\n",
            "|   19| Rolls Royce|     Camargue|      2|     Saloon|    62000|       600|      654|         9/1/2001|  28750|    1/1/2012| 60746|\n",
            "|   20| Rolls Royce|Silver Shadow|      1|     Saloon|    75890|       450|      321|         6/8/2005|  52500|    1/1/2012| 75119|\n",
            "+-----+------------+-------------+-------+-----------+---------+----------+---------+-----------------+-------+------------+------+\n",
            "only showing top 20 rows\n",
            "\n"
          ]
        }
      ]
    },
    {
      "cell_type": "markdown",
      "source": [
        "# Plotting in PySpark"
      ],
      "metadata": {
        "id": "hFiGN8GlScc-"
      }
    },
    {
      "cell_type": "code",
      "source": [
        "import matplotlib.pyplot as plt"
      ],
      "metadata": {
        "id": "JAcaHIcsSqd8"
      },
      "execution_count": 19,
      "outputs": []
    },
    {
      "cell_type": "code",
      "source": [
        "added_profits_pd = added_profits.toPandas()\n",
        "added_profits_pd.head()"
      ],
      "metadata": {
        "colab": {
          "base_uri": "https://localhost:8080/",
          "height": 206
        },
        "id": "llgMbWt7TIAr",
        "outputId": "6ec18483-3317-493d-cc01-614dc0fa86c5"
      },
      "execution_count": 20,
      "outputs": [
        {
          "output_type": "execute_result",
          "data": {
            "text/plain": [
              "   Index          Make         Model  ColorID VehicleType  CostPrice  \\\n",
              "0      1   Rolls Royce      Camargue        1      Saloon      50000   \n",
              "1      2  Aston Martin           DBS        2       Coupe      75000   \n",
              "2      3   Rolls Royce  Silver Ghost        3      Saloon      75000   \n",
              "3      4   Rolls Royce  Silver Ghost        2      Saloon      88000   \n",
              "4      5   Rolls Royce      Camargue        5      Saloon      62000   \n",
              "\n",
              "   SpareParts  LaborCost Registration_Date  Mileage PurchaseDate  Profit  \n",
              "0         500        750          1/8/1985    52500     1/1/2012   48750  \n",
              "1         600        550          5/9/2007    75000     1/1/2012   73850  \n",
              "2         750        550          9/8/2006    52500     1/1/2012   73700  \n",
              "3          85        550          1/5/1987   127220     1/1/2012   87365  \n",
              "4        2500        550          1/8/1985    52500     1/1/2012   58950  "
            ],
            "text/html": [
              "\n",
              "  <div id=\"df-186f44d3-3cc3-4bc8-a52d-14022ad76587\">\n",
              "    <div class=\"colab-df-container\">\n",
              "      <div>\n",
              "<style scoped>\n",
              "    .dataframe tbody tr th:only-of-type {\n",
              "        vertical-align: middle;\n",
              "    }\n",
              "\n",
              "    .dataframe tbody tr th {\n",
              "        vertical-align: top;\n",
              "    }\n",
              "\n",
              "    .dataframe thead th {\n",
              "        text-align: right;\n",
              "    }\n",
              "</style>\n",
              "<table border=\"1\" class=\"dataframe\">\n",
              "  <thead>\n",
              "    <tr style=\"text-align: right;\">\n",
              "      <th></th>\n",
              "      <th>Index</th>\n",
              "      <th>Make</th>\n",
              "      <th>Model</th>\n",
              "      <th>ColorID</th>\n",
              "      <th>VehicleType</th>\n",
              "      <th>CostPrice</th>\n",
              "      <th>SpareParts</th>\n",
              "      <th>LaborCost</th>\n",
              "      <th>Registration_Date</th>\n",
              "      <th>Mileage</th>\n",
              "      <th>PurchaseDate</th>\n",
              "      <th>Profit</th>\n",
              "    </tr>\n",
              "  </thead>\n",
              "  <tbody>\n",
              "    <tr>\n",
              "      <th>0</th>\n",
              "      <td>1</td>\n",
              "      <td>Rolls Royce</td>\n",
              "      <td>Camargue</td>\n",
              "      <td>1</td>\n",
              "      <td>Saloon</td>\n",
              "      <td>50000</td>\n",
              "      <td>500</td>\n",
              "      <td>750</td>\n",
              "      <td>1/8/1985</td>\n",
              "      <td>52500</td>\n",
              "      <td>1/1/2012</td>\n",
              "      <td>48750</td>\n",
              "    </tr>\n",
              "    <tr>\n",
              "      <th>1</th>\n",
              "      <td>2</td>\n",
              "      <td>Aston Martin</td>\n",
              "      <td>DBS</td>\n",
              "      <td>2</td>\n",
              "      <td>Coupe</td>\n",
              "      <td>75000</td>\n",
              "      <td>600</td>\n",
              "      <td>550</td>\n",
              "      <td>5/9/2007</td>\n",
              "      <td>75000</td>\n",
              "      <td>1/1/2012</td>\n",
              "      <td>73850</td>\n",
              "    </tr>\n",
              "    <tr>\n",
              "      <th>2</th>\n",
              "      <td>3</td>\n",
              "      <td>Rolls Royce</td>\n",
              "      <td>Silver Ghost</td>\n",
              "      <td>3</td>\n",
              "      <td>Saloon</td>\n",
              "      <td>75000</td>\n",
              "      <td>750</td>\n",
              "      <td>550</td>\n",
              "      <td>9/8/2006</td>\n",
              "      <td>52500</td>\n",
              "      <td>1/1/2012</td>\n",
              "      <td>73700</td>\n",
              "    </tr>\n",
              "    <tr>\n",
              "      <th>3</th>\n",
              "      <td>4</td>\n",
              "      <td>Rolls Royce</td>\n",
              "      <td>Silver Ghost</td>\n",
              "      <td>2</td>\n",
              "      <td>Saloon</td>\n",
              "      <td>88000</td>\n",
              "      <td>85</td>\n",
              "      <td>550</td>\n",
              "      <td>1/5/1987</td>\n",
              "      <td>127220</td>\n",
              "      <td>1/1/2012</td>\n",
              "      <td>87365</td>\n",
              "    </tr>\n",
              "    <tr>\n",
              "      <th>4</th>\n",
              "      <td>5</td>\n",
              "      <td>Rolls Royce</td>\n",
              "      <td>Camargue</td>\n",
              "      <td>5</td>\n",
              "      <td>Saloon</td>\n",
              "      <td>62000</td>\n",
              "      <td>2500</td>\n",
              "      <td>550</td>\n",
              "      <td>1/8/1985</td>\n",
              "      <td>52500</td>\n",
              "      <td>1/1/2012</td>\n",
              "      <td>58950</td>\n",
              "    </tr>\n",
              "  </tbody>\n",
              "</table>\n",
              "</div>\n",
              "      <button class=\"colab-df-convert\" onclick=\"convertToInteractive('df-186f44d3-3cc3-4bc8-a52d-14022ad76587')\"\n",
              "              title=\"Convert this dataframe to an interactive table.\"\n",
              "              style=\"display:none;\">\n",
              "        \n",
              "  <svg xmlns=\"http://www.w3.org/2000/svg\" height=\"24px\"viewBox=\"0 0 24 24\"\n",
              "       width=\"24px\">\n",
              "    <path d=\"M0 0h24v24H0V0z\" fill=\"none\"/>\n",
              "    <path d=\"M18.56 5.44l.94 2.06.94-2.06 2.06-.94-2.06-.94-.94-2.06-.94 2.06-2.06.94zm-11 1L8.5 8.5l.94-2.06 2.06-.94-2.06-.94L8.5 2.5l-.94 2.06-2.06.94zm10 10l.94 2.06.94-2.06 2.06-.94-2.06-.94-.94-2.06-.94 2.06-2.06.94z\"/><path d=\"M17.41 7.96l-1.37-1.37c-.4-.4-.92-.59-1.43-.59-.52 0-1.04.2-1.43.59L10.3 9.45l-7.72 7.72c-.78.78-.78 2.05 0 2.83L4 21.41c.39.39.9.59 1.41.59.51 0 1.02-.2 1.41-.59l7.78-7.78 2.81-2.81c.8-.78.8-2.07 0-2.86zM5.41 20L4 18.59l7.72-7.72 1.47 1.35L5.41 20z\"/>\n",
              "  </svg>\n",
              "      </button>\n",
              "      \n",
              "  <style>\n",
              "    .colab-df-container {\n",
              "      display:flex;\n",
              "      flex-wrap:wrap;\n",
              "      gap: 12px;\n",
              "    }\n",
              "\n",
              "    .colab-df-convert {\n",
              "      background-color: #E8F0FE;\n",
              "      border: none;\n",
              "      border-radius: 50%;\n",
              "      cursor: pointer;\n",
              "      display: none;\n",
              "      fill: #1967D2;\n",
              "      height: 32px;\n",
              "      padding: 0 0 0 0;\n",
              "      width: 32px;\n",
              "    }\n",
              "\n",
              "    .colab-df-convert:hover {\n",
              "      background-color: #E2EBFA;\n",
              "      box-shadow: 0px 1px 2px rgba(60, 64, 67, 0.3), 0px 1px 3px 1px rgba(60, 64, 67, 0.15);\n",
              "      fill: #174EA6;\n",
              "    }\n",
              "\n",
              "    [theme=dark] .colab-df-convert {\n",
              "      background-color: #3B4455;\n",
              "      fill: #D2E3FC;\n",
              "    }\n",
              "\n",
              "    [theme=dark] .colab-df-convert:hover {\n",
              "      background-color: #434B5C;\n",
              "      box-shadow: 0px 1px 3px 1px rgba(0, 0, 0, 0.15);\n",
              "      filter: drop-shadow(0px 1px 2px rgba(0, 0, 0, 0.3));\n",
              "      fill: #FFFFFF;\n",
              "    }\n",
              "  </style>\n",
              "\n",
              "      <script>\n",
              "        const buttonEl =\n",
              "          document.querySelector('#df-186f44d3-3cc3-4bc8-a52d-14022ad76587 button.colab-df-convert');\n",
              "        buttonEl.style.display =\n",
              "          google.colab.kernel.accessAllowed ? 'block' : 'none';\n",
              "\n",
              "        async function convertToInteractive(key) {\n",
              "          const element = document.querySelector('#df-186f44d3-3cc3-4bc8-a52d-14022ad76587');\n",
              "          const dataTable =\n",
              "            await google.colab.kernel.invokeFunction('convertToInteractive',\n",
              "                                                     [key], {});\n",
              "          if (!dataTable) return;\n",
              "\n",
              "          const docLinkHtml = 'Like what you see? Visit the ' +\n",
              "            '<a target=\"_blank\" href=https://colab.research.google.com/notebooks/data_table.ipynb>data table notebook</a>'\n",
              "            + ' to learn more about interactive tables.';\n",
              "          element.innerHTML = '';\n",
              "          dataTable['output_type'] = 'display_data';\n",
              "          await google.colab.output.renderOutput(dataTable, element);\n",
              "          const docLink = document.createElement('div');\n",
              "          docLink.innerHTML = docLinkHtml;\n",
              "          element.appendChild(docLink);\n",
              "        }\n",
              "      </script>\n",
              "    </div>\n",
              "  </div>\n",
              "  "
            ]
          },
          "metadata": {},
          "execution_count": 20
        }
      ]
    },
    {
      "cell_type": "code",
      "source": [
        "makers_grouped = added_profits_pd.groupby(\"Make\")\n",
        "profits_pdf = makers_grouped.Profit.mean().reset_index()\n",
        "makers_list = profits_pdf[\"Make\"].tolist()\n",
        "print(makers_list)\n",
        "average_profits = profits_pdf[\"Profit\"].tolist()\n",
        "print(average_profits)\n",
        "total_average = profits_pdf[\"Profit\"].mean()\n",
        "colors = [\"red\" if avg < total_average else \"black\" for avg in average_profits]\n",
        "with plt.xkcd(scale=0.5, randomness=4):\n",
        "    plt.bar(makers_list, average_profits, color=colors)\n",
        "    plt.title(\"Avg profit for manufacturer\")\n",
        "    plt.xlabel(\"Manufacturer\")\n",
        "    plt.ylabel(\"Avg Profit\")\n",
        "    plt.xticks(fontsize=8)\n",
        "    plt.axhline(y=total_average, color='green')\n",
        "    plt.show()"
      ],
      "metadata": {
        "colab": {
          "base_uri": "https://localhost:8080/",
          "height": 334
        },
        "id": "lyiB3oB5Ualj",
        "outputId": "8fa5393d-43ac-4bfb-c5fc-3a59ce400c2d"
      },
      "execution_count": 21,
      "outputs": [
        {
          "output_type": "stream",
          "name": "stdout",
          "text": [
            "['Aston Martin', 'Bentley', 'Jaguar', 'MGB', 'Rolls Royce', 'TVR', 'Triumph']\n",
            "[59251.86363636364, 41020.25, 36084.17054263566, 8862.5, 63784.28571428572, 40108.333333333336, 17616.666666666668]\n"
          ]
        },
        {
          "output_type": "display_data",
          "data": {
            "text/plain": [
              "<Figure size 432x288 with 1 Axes>"
            ],
            "image/png": "[encoded data removed]"
          },
          "metadata": {}
        }
      ]
    },
    {
      "cell_type": "code",
      "source": [
        "sales_pdf = makers_grouped.CostPrice.sum().reset_index()\n",
        "with plt.xkcd(scale=0.7, length=80, randomness=4):\n",
        "    plt.figure(figsize=(10, 10))\n",
        "    plt.pie(sales_pdf[\"CostPrice\"], labels=makers_list, autopct='%1.1f%%', textprops={'size': 11}, explode=[.05 for _ in  makers_list])\n",
        "    plt.show()"
      ],
      "metadata": {
        "colab": {
          "base_uri": "https://localhost:8080/",
          "height": 575
        },
        "id": "8BNxqYyew2wm",
        "outputId": "96e83068-99cf-4211-e669-01fb86127290"
      },
      "execution_count": 22,
      "outputs": [
        {
          "output_type": "display_data",
          "data": {
            "text/plain": [
              "<Figure size 720x720 with 1 Axes>"
            ],
            "image/png": "[encoded data removed]"
          },
          "metadata": {}
        }
      ]
    }
  ]
}