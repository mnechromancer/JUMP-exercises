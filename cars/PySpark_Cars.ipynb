{
  "nbformat": 4,
  "nbformat_minor": 0,
  "metadata": {
    "colab": {
      "name": "PySpark_Cars.ipynb",
      "provenance": [],
      "include_colab_link": true
    },
    "kernelspec": {
      "name": "python3",
      "display_name": "Python 3"
    },
    "language_info": {
      "name": "python"
    }
  },
  "cells": [
    {
      "cell_type": "markdown",
      "metadata": {
        "id": "view-in-github",
        "colab_type": "text"
      },
      "source": [
        "<a href=\"https://colab.research.google.com/github/mnechromancer/JUMP-exercises/blob/main/PySpark_Cars.ipynb\" target=\"_parent\"><img src=\"https://colab.research.google.com/assets/colab-badge.svg\" alt=\"Open In Colab\"/></a>"
      ]
    },
    {
      "cell_type": "markdown",
      "source": [
        "Apache Spark is written is Scala, an Object-Functional language that runs on the Java Virtual Machine(jvm).  In order to run Spark, we must install a compatiable version of Java into our virtual environment.  In this case, Java 8."
      ],
      "metadata": {
        "id": "vusxHUH5cYwA"
      }
    },
    {
      "cell_type": "code",
      "source": [
        "!apt-get install openjdk-8-jdk-headless -qq > /dev/null"
      ],
      "metadata": {
        "id": "Sa1suy9ddJmd"
      },
      "execution_count": null,
      "outputs": []
    },
    {
      "cell_type": "markdown",
      "source": [
        "Next, we must install a version of Spark from an online repository, and unarchive the file."
      ],
      "metadata": {
        "id": "aEIoRZxEc0kQ"
      }
    },
    {
      "cell_type": "code",
      "execution_count": null,
      "metadata": {
        "id": "prxJbjzVq63S"
      },
      "outputs": [],
      "source": [
        "!wget -q https://dlcdn.apache.org/spark/spark-3.2.1/spark-3.2.1-bin-hadoop3.2.tgz\n",
        "!tar xf spark-3.2.1-bin-hadoop3.2.tgz"
      ]
    },
    {
      "cell_type": "markdown",
      "source": [
        "PySpark is a Python API for Spark, allowing us to access Spark Functionality through Python code.  The findsaprk package will allow us to load Spark into our Python environment"
      ],
      "metadata": {
        "id": "zUUbQlz1dETO"
      }
    },
    {
      "cell_type": "code",
      "source": [
        "!pip install -q findspark"
      ],
      "metadata": {
        "id": "CHuMf8V3dFRa"
      },
      "execution_count": null,
      "outputs": []
    },
    {
      "cell_type": "markdown",
      "source": [
        "Setting Up Environment Variables\n",
        "\n",
        "Python will use these environment variables to access the "
      ],
      "metadata": {
        "id": "oNvCF6i8d1V8"
      }
    },
    {
      "cell_type": "code",
      "source": [
        "import os\n",
        "os.environ[\"JAVA_HOME\"] = \"/usr/lib/jvm/java-8-openjdk-amd64\"\n",
        "os.environ[\"SPARK_HOME\"] = \"/content/spark-3.2.1-bin-hadoop3.2\""
      ],
      "metadata": {
        "id": "qUKDQ1pfsdrR"
      },
      "execution_count": null,
      "outputs": []
    },
    {
      "cell_type": "markdown",
      "source": [
        "Setting up a Session\n",
        "\n",
        "Spark Session is the entry point to SparkSQL, which will allow uas to create Spark RDDs and DataFrames"
      ],
      "metadata": {
        "id": "P6Ky3LCXeFXd"
      }
    },
    {
      "cell_type": "code",
      "source": [
        "import findspark\n",
        "findspark.init()\n",
        "from pyspark.sql import SparkSession\n",
        "spark = SparkSession.builder.master(\"local[*]\").getOrCreate()"
      ],
      "metadata": {
        "id": "BKSWX-T9sgO7"
      },
      "execution_count": null,
      "outputs": []
    },
    {
      "cell_type": "code",
      "source": [
        "spark = SparkSession.builder\\\n",
        "        .master(\"local\")\\\n",
        "        .appName(\"Colab\")\\\n",
        "        .config('spark.ui.port', '4050')\\\n",
        "        .getOrCreate()\n",
        "spark"
      ],
      "metadata": {
        "id": "Gxq1W0Tzt_1v",
        "colab": {
          "base_uri": "https://localhost:8080/",
          "height": 219
        },
        "outputId": "6773e8ad-13e4-4cfd-b8c4-d0aa3e981351"
      },
      "execution_count": null,
      "outputs": [
        {
          "output_type": "execute_result",
          "data": {
            "text/plain": [
              "<pyspark.sql.session.SparkSession at 0x7fab581ecb10>"
            ],
            "text/html": [
              "\n",
              "            <div>\n",
              "                <p><b>SparkSession - in-memory</b></p>\n",
              "                \n",
              "        <div>\n",
              "            <p><b>SparkContext</b></p>\n",
              "\n",
              "            <p><a href=\"http://eb494606a0c4:4040\">Spark UI</a></p>\n",
              "\n",
              "            <dl>\n",
              "              <dt>Version</dt>\n",
              "                <dd><code>v3.2.1</code></dd>\n",
              "              <dt>Master</dt>\n",
              "                <dd><code>local[*]</code></dd>\n",
              "              <dt>AppName</dt>\n",
              "                <dd><code>pyspark-shell</code></dd>\n",
              "            </dl>\n",
              "        </div>\n",
              "        \n",
              "            </div>\n",
              "        "
            ]
          },
          "metadata": {},
          "execution_count": 6
        }
      ]
    },
    {
      "cell_type": "markdown",
      "source": [
        "# Make df from csv"
      ],
      "metadata": {
        "id": "OHjIjHZBGdNE"
      }
    },
    {
      "cell_type": "code",
      "source": [
        "cars = spark.read.options(header=\"true\", inferSchema=\"true\").csv('/content/car_sales_table.csv')\n",
        "cars.show()"
      ],
      "metadata": {
        "colab": {
          "base_uri": "https://localhost:8080/"
        },
        "id": "km3arsvPwFP-",
        "outputId": "ecad070d-2926-476d-add4-f4f49104756e"
      },
      "execution_count": null,
      "outputs": [
        {
          "output_type": "stream",
          "name": "stdout",
          "text": [
            "+-------+------------+-------------+-------+-----------+---------+----------+---------+-----------------+-------+------------+\n",
            "|StockID|        Make|        Model|ColorID|VehicleType|CostPrice|SpareParts|LaborCost|Registration_Date|Mileage|PurchaseDate|\n",
            "+-------+------------+-------------+-------+-----------+---------+----------+---------+-----------------+-------+------------+\n",
            "|      1| Rolls Royce|     Camargue|      1|     Saloon|    50000|       500|      750|         1/8/1985|  52500|    1/1/2012|\n",
            "|      2|Aston Martin|          DBS|      2|      Coupe|    75000|       600|      550|         5/9/2007|  75000|    1/1/2012|\n",
            "|      3| Rolls Royce| Silver Ghost|      3|     Saloon|    75000|       750|      550|         9/8/2006|  52500|    1/1/2012|\n",
            "|      4| Rolls Royce| Silver Ghost|      2|     Saloon|    88000|        85|      550|         1/5/1987| 127220|    1/1/2012|\n",
            "|      5| Rolls Royce|     Camargue|      5|     Saloon|    62000|      2500|      550|         1/8/1985|  52500|    1/1/2012|\n",
            "|      6| Rolls Royce|     Camargue|      8|     Saloon|   125000|      4000|      550|         5/6/1986|  28750|    1/1/2012|\n",
            "|      7|Aston Martin|          DBS|      9|      Coupe|    56000|       900|      550|         8/9/1991|  75000|    1/1/2012|\n",
            "|      8|Aston Martin|          DB7|      1|      Coupe|    23500|       900|      550|         5/8/1992|  52500|    1/1/2012|\n",
            "|      9|Aston Martin|          DB9|      2|      Coupe|    15500|       900|      750|         9/8/2005|   9950|    1/1/2012|\n",
            "|     10|Aston Martin|          DB9|      4|      Coupe|    75890|       750|      750|         5/8/1993|  28750|    1/1/2012|\n",
            "|     11|Aston Martin|          DB4|      6|      Coupe|    99000|       750|      750|         5/6/1975|  52500|    1/1/2012|\n",
            "|     12|Aston Martin|      Vantage|      5|      Coupe|   125000|       750|      750|        1/15/1985|  75000|    1/1/2012|\n",
            "|     13|Aston Martin|     Vanquish|      6|      Coupe|   125000|       600|      750|        3/29/1979| 127220|    1/1/2012|\n",
            "|     14|Aston Martin|       Rapide|      7|      Coupe|   155000|       600|      570|         9/8/2004|  52500|    1/1/2012|\n",
            "|     15|Aston Martin|       Zagato|      8|      Coupe|   125000|       600|      570|         6/4/1994|   8000|    1/1/2012|\n",
            "|     16| Rolls Royce| Silver Ghost|      5|     Saloon|    62000|       600|      570|         9/8/2006|  52500|    1/1/2012|\n",
            "|     17| Rolls Royce|       Wraith|      4|     Saloon|    62000|       600|      654|         9/1/2000|  65250|    1/1/2012|\n",
            "|     18| Rolls Royce| Silver Ghost|      3|     Saloon|    75890|       600|      987|        5/10/1997|  52500|    1/1/2012|\n",
            "|     19| Rolls Royce|     Camargue|      2|     Saloon|    62000|       600|      654|         9/1/2001|  28750|    1/1/2012|\n",
            "|     20| Rolls Royce|Silver Shadow|      1|     Saloon|    75890|       450|      321|         6/8/2005|  52500|    1/1/2012|\n",
            "+-------+------------+-------------+-------+-----------+---------+----------+---------+-----------------+-------+------------+\n",
            "only showing top 20 rows\n",
            "\n"
          ]
        }
      ]
    },
    {
      "cell_type": "markdown",
      "source": [
        "# This won't work"
      ],
      "metadata": {
        "id": "jFEfJSQnGmRO"
      }
    },
    {
      "cell_type": "code",
      "source": [
        "cars.index = cars.StockID\n",
        "cars.show()"
      ],
      "metadata": {
        "colab": {
          "base_uri": "https://localhost:8080/"
        },
        "id": "BywLbP4k1bo2",
        "outputId": "8e7748c1-485f-401f-d049-eaccf08ae51e"
      },
      "execution_count": null,
      "outputs": [
        {
          "output_type": "stream",
          "name": "stdout",
          "text": [
            "+-------+------------+-------------+-------+-----------+---------+----------+---------+-----------------+-------+------------+\n",
            "|StockID|        Make|        Model|ColorID|VehicleType|CostPrice|SpareParts|LaborCost|Registration_Date|Mileage|PurchaseDate|\n",
            "+-------+------------+-------------+-------+-----------+---------+----------+---------+-----------------+-------+------------+\n",
            "|      1| Rolls Royce|     Camargue|      1|     Saloon|    50000|       500|      750|         1/8/1985|  52500|    1/1/2012|\n",
            "|      2|Aston Martin|          DBS|      2|      Coupe|    75000|       600|      550|         5/9/2007|  75000|    1/1/2012|\n",
            "|      3| Rolls Royce| Silver Ghost|      3|     Saloon|    75000|       750|      550|         9/8/2006|  52500|    1/1/2012|\n",
            "|      4| Rolls Royce| Silver Ghost|      2|     Saloon|    88000|        85|      550|         1/5/1987| 127220|    1/1/2012|\n",
            "|      5| Rolls Royce|     Camargue|      5|     Saloon|    62000|      2500|      550|         1/8/1985|  52500|    1/1/2012|\n",
            "|      6| Rolls Royce|     Camargue|      8|     Saloon|   125000|      4000|      550|         5/6/1986|  28750|    1/1/2012|\n",
            "|      7|Aston Martin|          DBS|      9|      Coupe|    56000|       900|      550|         8/9/1991|  75000|    1/1/2012|\n",
            "|      8|Aston Martin|          DB7|      1|      Coupe|    23500|       900|      550|         5/8/1992|  52500|    1/1/2012|\n",
            "|      9|Aston Martin|          DB9|      2|      Coupe|    15500|       900|      750|         9/8/2005|   9950|    1/1/2012|\n",
            "|     10|Aston Martin|          DB9|      4|      Coupe|    75890|       750|      750|         5/8/1993|  28750|    1/1/2012|\n",
            "|     11|Aston Martin|          DB4|      6|      Coupe|    99000|       750|      750|         5/6/1975|  52500|    1/1/2012|\n",
            "|     12|Aston Martin|      Vantage|      5|      Coupe|   125000|       750|      750|        1/15/1985|  75000|    1/1/2012|\n",
            "|     13|Aston Martin|     Vanquish|      6|      Coupe|   125000|       600|      750|        3/29/1979| 127220|    1/1/2012|\n",
            "|     14|Aston Martin|       Rapide|      7|      Coupe|   155000|       600|      570|         9/8/2004|  52500|    1/1/2012|\n",
            "|     15|Aston Martin|       Zagato|      8|      Coupe|   125000|       600|      570|         6/4/1994|   8000|    1/1/2012|\n",
            "|     16| Rolls Royce| Silver Ghost|      5|     Saloon|    62000|       600|      570|         9/8/2006|  52500|    1/1/2012|\n",
            "|     17| Rolls Royce|       Wraith|      4|     Saloon|    62000|       600|      654|         9/1/2000|  65250|    1/1/2012|\n",
            "|     18| Rolls Royce| Silver Ghost|      3|     Saloon|    75890|       600|      987|        5/10/1997|  52500|    1/1/2012|\n",
            "|     19| Rolls Royce|     Camargue|      2|     Saloon|    62000|       600|      654|         9/1/2001|  28750|    1/1/2012|\n",
            "|     20| Rolls Royce|Silver Shadow|      1|     Saloon|    75890|       450|      321|         6/8/2005|  52500|    1/1/2012|\n",
            "+-------+------------+-------------+-------+-----------+---------+----------+---------+-----------------+-------+------------+\n",
            "only showing top 20 rows\n",
            "\n"
          ]
        }
      ]
    },
    {
      "cell_type": "markdown",
      "source": [
        "# This kind of works"
      ],
      "metadata": {
        "id": "1jpEz-5LGn8r"
      }
    },
    {
      "cell_type": "code",
      "source": [
        "cars = cars.withColumnRenamed(\"StockID\", \"Index\")\n",
        "cars.show()"
      ],
      "metadata": {
        "colab": {
          "base_uri": "https://localhost:8080/"
        },
        "id": "jL5qbCrb3IiC",
        "outputId": "fb534d25-6b4d-4ffa-8f46-0707ea3c9c83"
      },
      "execution_count": null,
      "outputs": [
        {
          "output_type": "stream",
          "name": "stdout",
          "text": [
            "+-----+------------+-------------+-------+-----------+---------+----------+---------+-----------------+-------+------------+\n",
            "|Index|        Make|        Model|ColorID|VehicleType|CostPrice|SpareParts|LaborCost|Registration_Date|Mileage|PurchaseDate|\n",
            "+-----+------------+-------------+-------+-----------+---------+----------+---------+-----------------+-------+------------+\n",
            "|    1| Rolls Royce|     Camargue|      1|     Saloon|    50000|       500|      750|         1/8/1985|  52500|    1/1/2012|\n",
            "|    2|Aston Martin|          DBS|      2|      Coupe|    75000|       600|      550|         5/9/2007|  75000|    1/1/2012|\n",
            "|    3| Rolls Royce| Silver Ghost|      3|     Saloon|    75000|       750|      550|         9/8/2006|  52500|    1/1/2012|\n",
            "|    4| Rolls Royce| Silver Ghost|      2|     Saloon|    88000|        85|      550|         1/5/1987| 127220|    1/1/2012|\n",
            "|    5| Rolls Royce|     Camargue|      5|     Saloon|    62000|      2500|      550|         1/8/1985|  52500|    1/1/2012|\n",
            "|    6| Rolls Royce|     Camargue|      8|     Saloon|   125000|      4000|      550|         5/6/1986|  28750|    1/1/2012|\n",
            "|    7|Aston Martin|          DBS|      9|      Coupe|    56000|       900|      550|         8/9/1991|  75000|    1/1/2012|\n",
            "|    8|Aston Martin|          DB7|      1|      Coupe|    23500|       900|      550|         5/8/1992|  52500|    1/1/2012|\n",
            "|    9|Aston Martin|          DB9|      2|      Coupe|    15500|       900|      750|         9/8/2005|   9950|    1/1/2012|\n",
            "|   10|Aston Martin|          DB9|      4|      Coupe|    75890|       750|      750|         5/8/1993|  28750|    1/1/2012|\n",
            "|   11|Aston Martin|          DB4|      6|      Coupe|    99000|       750|      750|         5/6/1975|  52500|    1/1/2012|\n",
            "|   12|Aston Martin|      Vantage|      5|      Coupe|   125000|       750|      750|        1/15/1985|  75000|    1/1/2012|\n",
            "|   13|Aston Martin|     Vanquish|      6|      Coupe|   125000|       600|      750|        3/29/1979| 127220|    1/1/2012|\n",
            "|   14|Aston Martin|       Rapide|      7|      Coupe|   155000|       600|      570|         9/8/2004|  52500|    1/1/2012|\n",
            "|   15|Aston Martin|       Zagato|      8|      Coupe|   125000|       600|      570|         6/4/1994|   8000|    1/1/2012|\n",
            "|   16| Rolls Royce| Silver Ghost|      5|     Saloon|    62000|       600|      570|         9/8/2006|  52500|    1/1/2012|\n",
            "|   17| Rolls Royce|       Wraith|      4|     Saloon|    62000|       600|      654|         9/1/2000|  65250|    1/1/2012|\n",
            "|   18| Rolls Royce| Silver Ghost|      3|     Saloon|    75890|       600|      987|        5/10/1997|  52500|    1/1/2012|\n",
            "|   19| Rolls Royce|     Camargue|      2|     Saloon|    62000|       600|      654|         9/1/2001|  28750|    1/1/2012|\n",
            "|   20| Rolls Royce|Silver Shadow|      1|     Saloon|    75890|       450|      321|         6/8/2005|  52500|    1/1/2012|\n",
            "+-----+------------+-------------+-------+-----------+---------+----------+---------+-----------------+-------+------------+\n",
            "only showing top 20 rows\n",
            "\n"
          ]
        }
      ]
    },
    {
      "cell_type": "markdown",
      "source": [
        "# Indexes (sort of)"
      ],
      "metadata": {
        "id": "AWV-gT-MGr9j"
      }
    },
    {
      "cell_type": "code",
      "source": [
        "cars.collect()[2:5]"
      ],
      "metadata": {
        "colab": {
          "base_uri": "https://localhost:8080/"
        },
        "id": "KBD_LorB5FTE",
        "outputId": "8bcfdd1e-a512-4aa4-a0d6-e85b372cac62"
      },
      "execution_count": null,
      "outputs": [
        {
          "output_type": "execute_result",
          "data": {
            "text/plain": [
              "[Row(Index=3, Make='Rolls Royce', Model='Silver Ghost', ColorID=3, VehicleType='Saloon', CostPrice=75000, SpareParts=750, LaborCost=550, Registration_Date='9/8/2006', Mileage=52500, PurchaseDate='1/1/2012'),\n",
              " Row(Index=4, Make='Rolls Royce', Model='Silver Ghost', ColorID=2, VehicleType='Saloon', CostPrice=88000, SpareParts=85, LaborCost=550, Registration_Date='1/5/1987', Mileage=127220, PurchaseDate='1/1/2012'),\n",
              " Row(Index=5, Make='Rolls Royce', Model='Camargue', ColorID=5, VehicleType='Saloon', CostPrice=62000, SpareParts=2500, LaborCost=550, Registration_Date='1/8/1985', Mileage=52500, PurchaseDate='1/1/2012')]"
            ]
          },
          "metadata": {},
          "execution_count": 10
        }
      ]
    },
    {
      "cell_type": "code",
      "source": [
        "cars.collect()[3:6]"
      ],
      "metadata": {
        "colab": {
          "base_uri": "https://localhost:8080/"
        },
        "id": "naXsqxjh5jmN",
        "outputId": "3787c91e-6ede-4fb5-b0d4-79d5abace4cc"
      },
      "execution_count": null,
      "outputs": [
        {
          "output_type": "execute_result",
          "data": {
            "text/plain": [
              "[Row(Index=4, Make='Rolls Royce', Model='Silver Ghost', ColorID=2, VehicleType='Saloon', CostPrice=88000, SpareParts=85, LaborCost=550, Registration_Date='1/5/1987', Mileage=127220, PurchaseDate='1/1/2012'),\n",
              " Row(Index=5, Make='Rolls Royce', Model='Camargue', ColorID=5, VehicleType='Saloon', CostPrice=62000, SpareParts=2500, LaborCost=550, Registration_Date='1/8/1985', Mileage=52500, PurchaseDate='1/1/2012'),\n",
              " Row(Index=6, Make='Rolls Royce', Model='Camargue', ColorID=8, VehicleType='Saloon', CostPrice=125000, SpareParts=4000, LaborCost=550, Registration_Date='5/6/1986', Mileage=28750, PurchaseDate='1/1/2012')]"
            ]
          },
          "metadata": {},
          "execution_count": 11
        }
      ]
    },
    {
      "cell_type": "markdown",
      "source": [
        "# Aggregates"
      ],
      "metadata": {
        "id": "fVTDSXYZG4qa"
      }
    },
    {
      "cell_type": "code",
      "source": [
        "max_mileage_row = max(cars.select(\"Mileage\").collect())\n",
        "print(f\"Maximum mileage: {max_mileage_row.Mileage}\")"
      ],
      "metadata": {
        "colab": {
          "base_uri": "https://localhost:8080/"
        },
        "id": "9-qyAYSV54vS",
        "outputId": "a7513d36-44de-4be3-a55e-6fa99719290c"
      },
      "execution_count": null,
      "outputs": [
        {
          "output_type": "stream",
          "name": "stdout",
          "text": [
            "Maximum mileage: 161000\n"
          ]
        }
      ]
    },
    {
      "cell_type": "code",
      "source": [
        "CostPrice_col_ints = [i.CostPrice for i in cars.select(\"CostPrice\").collect()]\n",
        "costPrice_sum = sum(CostPrice_col_ints)\n",
        "print(f\"Sum of Cost: {costPrice_sum}\")"
      ],
      "metadata": {
        "colab": {
          "base_uri": "https://localhost:8080/"
        },
        "id": "PKITfQ4C8E4S",
        "outputId": "0ec457dc-a6dc-4953-92d4-3750d63bb00d"
      },
      "execution_count": null,
      "outputs": [
        {
          "output_type": "stream",
          "name": "stdout",
          "text": [
            "Sum of Cost: 20510095\n"
          ]
        }
      ]
    },
    {
      "cell_type": "markdown",
      "source": [
        "# Makes and models"
      ],
      "metadata": {
        "id": "9VvpaCKsG6t0"
      }
    },
    {
      "cell_type": "code",
      "source": [
        "makes_and_models = cars.groupBy(\"Make\", \"Model\")\n",
        "makes_and_models.count().show()"
      ],
      "metadata": {
        "colab": {
          "base_uri": "https://localhost:8080/"
        },
        "id": "40leBiz88l3r",
        "outputId": "adde45a9-0e53-4532-f01b-f0d50f97dd84"
      },
      "execution_count": null,
      "outputs": [
        {
          "output_type": "stream",
          "name": "stdout",
          "text": [
            "+------------+-------------+-----+\n",
            "|        Make|        Model|count|\n",
            "+------------+-------------+-----+\n",
            "|Aston Martin|          DBS|    4|\n",
            "|Aston Martin|          DB7|   16|\n",
            "|Aston Martin|       Zagato|    2|\n",
            "| Rolls Royce|       Wraith|    2|\n",
            "| Rolls Royce|     Camargue|   39|\n",
            "|     Triumph|          TR7|    4|\n",
            "|     Bentley|  Continental|   52|\n",
            "|     Bentley|      Turbo R|   10|\n",
            "|         TVR|       Tuscan|   11|\n",
            "|Aston Martin|          DB4|    8|\n",
            "|     Bentley|        Azure|    8|\n",
            "|Aston Martin|       Rapide|    4|\n",
            "|Aston Martin|          DB9|   54|\n",
            "|         MGB|           GT|   36|\n",
            "| Rolls Royce| Silver Ghost|   12|\n",
            "| Rolls Royce|      Phantom|    2|\n",
            "| Rolls Royce|Silver Shadow|    4|\n",
            "|     Bentley|       Arnage|    2|\n",
            "|Aston Martin|      Vantage|   12|\n",
            "|      Jaguar|           XK|   95|\n",
            "+------------+-------------+-----+\n",
            "only showing top 20 rows\n",
            "\n"
          ]
        }
      ]
    },
    {
      "cell_type": "markdown",
      "source": [
        "# Cost evaluations"
      ],
      "metadata": {
        "id": "BILe45ZuHAEQ"
      }
    },
    {
      "cell_type": "code",
      "source": [
        "make_costs = cars.groupBy(\"Make\").sum(\"CostPrice\")\n",
        "make_costs.show()"
      ],
      "metadata": {
        "colab": {
          "base_uri": "https://localhost:8080/"
        },
        "id": "XCjutHNT-fBS",
        "outputId": "50d101f1-4de7-441c-ae05-cae68a5c3c9e"
      },
      "execution_count": null,
      "outputs": [
        {
          "output_type": "stream",
          "name": "stdout",
          "text": [
            "+------------+--------------+\n",
            "|        Make|sum(CostPrice)|\n",
            "+------------+--------------+\n",
            "|      Jaguar|       4899700|\n",
            "|         TVR|        612500|\n",
            "| Rolls Royce|       4116225|\n",
            "|         MGB|        342000|\n",
            "|     Triumph|        655500|\n",
            "|     Bentley|       3179400|\n",
            "|Aston Martin|       6704770|\n",
            "+------------+--------------+\n",
            "\n"
          ]
        }
      ]
    },
    {
      "cell_type": "code",
      "source": [
        "make_costs = cars.groupBy(\"Make\").max(\"CostPrice\")\n",
        "make_costs.show()"
      ],
      "metadata": {
        "colab": {
          "base_uri": "https://localhost:8080/"
        },
        "id": "7FBSQvmh_NqU",
        "outputId": "93ec019d-90fa-49c3-f984-cc59a4fda5da"
      },
      "execution_count": null,
      "outputs": [
        {
          "output_type": "stream",
          "name": "stdout",
          "text": [
            "+------------+--------------+\n",
            "|        Make|max(CostPrice)|\n",
            "+------------+--------------+\n",
            "|      Jaguar|         67000|\n",
            "|         TVR|         42500|\n",
            "| Rolls Royce|        130000|\n",
            "|         MGB|         13500|\n",
            "|     Triumph|         22000|\n",
            "|     Bentley|         67000|\n",
            "|Aston Martin|        160000|\n",
            "+------------+--------------+\n",
            "\n"
          ]
        }
      ]
    },
    {
      "cell_type": "markdown",
      "source": [
        "# Add profits column"
      ],
      "metadata": {
        "id": "jvBE2O3QHDGC"
      }
    },
    {
      "cell_type": "code",
      "source": [
        "added_profits = cars.withColumn(\"Profit\", cars.CostPrice - (cars.LaborCost + cars.SpareParts))\n",
        "added_profits.show()"
      ],
      "metadata": {
        "colab": {
          "base_uri": "https://localhost:8080/"
        },
        "id": "qSTbeLov_WQH",
        "outputId": "6fad2f3b-2e7e-4e9d-ef6b-47f10241a4c3"
      },
      "execution_count": null,
      "outputs": [
        {
          "output_type": "stream",
          "name": "stdout",
          "text": [
            "+-----+------------+-------------+-------+-----------+---------+----------+---------+-----------------+-------+------------+------+\n",
            "|Index|        Make|        Model|ColorID|VehicleType|CostPrice|SpareParts|LaborCost|Registration_Date|Mileage|PurchaseDate|Profit|\n",
            "+-----+------------+-------------+-------+-----------+---------+----------+---------+-----------------+-------+------------+------+\n",
            "|    1| Rolls Royce|     Camargue|      1|     Saloon|    50000|       500|      750|         1/8/1985|  52500|    1/1/2012| 48750|\n",
            "|    2|Aston Martin|          DBS|      2|      Coupe|    75000|       600|      550|         5/9/2007|  75000|    1/1/2012| 73850|\n",
            "|    3| Rolls Royce| Silver Ghost|      3|     Saloon|    75000|       750|      550|         9/8/2006|  52500|    1/1/2012| 73700|\n",
            "|    4| Rolls Royce| Silver Ghost|      2|     Saloon|    88000|        85|      550|         1/5/1987| 127220|    1/1/2012| 87365|\n",
            "|    5| Rolls Royce|     Camargue|      5|     Saloon|    62000|      2500|      550|         1/8/1985|  52500|    1/1/2012| 58950|\n",
            "|    6| Rolls Royce|     Camargue|      8|     Saloon|   125000|      4000|      550|         5/6/1986|  28750|    1/1/2012|120450|\n",
            "|    7|Aston Martin|          DBS|      9|      Coupe|    56000|       900|      550|         8/9/1991|  75000|    1/1/2012| 54550|\n",
            "|    8|Aston Martin|          DB7|      1|      Coupe|    23500|       900|      550|         5/8/1992|  52500|    1/1/2012| 22050|\n",
            "|    9|Aston Martin|          DB9|      2|      Coupe|    15500|       900|      750|         9/8/2005|   9950|    1/1/2012| 13850|\n",
            "|   10|Aston Martin|          DB9|      4|      Coupe|    75890|       750|      750|         5/8/1993|  28750|    1/1/2012| 74390|\n",
            "|   11|Aston Martin|          DB4|      6|      Coupe|    99000|       750|      750|         5/6/1975|  52500|    1/1/2012| 97500|\n",
            "|   12|Aston Martin|      Vantage|      5|      Coupe|   125000|       750|      750|        1/15/1985|  75000|    1/1/2012|123500|\n",
            "|   13|Aston Martin|     Vanquish|      6|      Coupe|   125000|       600|      750|        3/29/1979| 127220|    1/1/2012|123650|\n",
            "|   14|Aston Martin|       Rapide|      7|      Coupe|   155000|       600|      570|         9/8/2004|  52500|    1/1/2012|153830|\n",
            "|   15|Aston Martin|       Zagato|      8|      Coupe|   125000|       600|      570|         6/4/1994|   8000|    1/1/2012|123830|\n",
            "|   16| Rolls Royce| Silver Ghost|      5|     Saloon|    62000|       600|      570|         9/8/2006|  52500|    1/1/2012| 60830|\n",
            "|   17| Rolls Royce|       Wraith|      4|     Saloon|    62000|       600|      654|         9/1/2000|  65250|    1/1/2012| 60746|\n",
            "|   18| Rolls Royce| Silver Ghost|      3|     Saloon|    75890|       600|      987|        5/10/1997|  52500|    1/1/2012| 74303|\n",
            "|   19| Rolls Royce|     Camargue|      2|     Saloon|    62000|       600|      654|         9/1/2001|  28750|    1/1/2012| 60746|\n",
            "|   20| Rolls Royce|Silver Shadow|      1|     Saloon|    75890|       450|      321|         6/8/2005|  52500|    1/1/2012| 75119|\n",
            "+-----+------------+-------------+-------+-----------+---------+----------+---------+-----------------+-------+------------+------+\n",
            "only showing top 20 rows\n",
            "\n"
          ]
        }
      ]
    }
  ]
}
