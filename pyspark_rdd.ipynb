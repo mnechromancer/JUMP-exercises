{
  "nbformat": 4,
  "nbformat_minor": 0,
  "metadata": {
    "colab": {
      "name": "RDDexercises.ipynb",
      "provenance": [],
      "toc_visible": true,
      "include_colab_link": true
    },
    "kernelspec": {
      "name": "python3",
      "display_name": "Python 3"
    },
    "language_info": {
      "name": "python"
    }
  },
  "cells": [
    {
      "cell_type": "markdown",
      "metadata": {
        "id": "view-in-github",
        "colab_type": "text"
      },
      "source": [
        "<a href=\"https://colab.research.google.com/github/mnechromancer/RDD-Exercises/blob/main/RDDexercises.ipynb\" target=\"_parent\"><img src=\"https://colab.research.google.com/assets/colab-badge.svg\" alt=\"Open In Colab\"/></a>"
      ]
    },
    {
      "cell_type": "code",
      "execution_count": 1,
      "metadata": {
        "id": "-2DO38kNlDaa"
      },
      "outputs": [],
      "source": [
        "!apt-get install openjdk-8-jdk-headless -qq > /dev/null\n",
        "!wget -q https://dlcdn.apache.org/spark/spark-3.2.1/spark-3.2.1-bin-hadoop3.2.tgz\n",
        "!tar xf spark-3.2.1-bin-hadoop3.2.tgz\n",
        "!pip install -q findspark"
      ]
    },
    {
      "cell_type": "code",
      "source": [
        "import numpy as np\n",
        "import pandas as pd\n",
        "import os\n",
        "import string\n",
        "import findspark\n",
        "from operator import add\n",
        "os.environ[\"JAVA_HOME\"] = \"/usr/lib/jvm/java-8-openjdk-amd64\"\n",
        "os.environ[\"SPARK_HOME\"] = \"/content/spark-3.2.1-bin-hadoop3.2\"\n",
        "findspark.init()\n",
        "from pyspark.sql import SparkSession\n",
        "spark = SparkSession.builder.master(\"local[*]\").getOrCreate()\n",
        "spark"
      ],
      "metadata": {
        "id": "Mgp9XXqllYU3",
        "colab": {
          "base_uri": "https://localhost:8080/",
          "height": 219
        },
        "outputId": "d60e3dee-2c11-4ed1-d1f9-82f2f3f80aa3"
      },
      "execution_count": 2,
      "outputs": [
        {
          "output_type": "execute_result",
          "data": {
            "text/plain": [
              "<pyspark.sql.session.SparkSession at 0x7f3beeaf2d50>"
            ],
            "text/html": [
              "\n",
              "            <div>\n",
              "                <p><b>SparkSession - in-memory</b></p>\n",
              "                \n",
              "        <div>\n",
              "            <p><b>SparkContext</b></p>\n",
              "\n",
              "            <p><a href=\"http://358e3f1e4c1a:4040\">Spark UI</a></p>\n",
              "\n",
              "            <dl>\n",
              "              <dt>Version</dt>\n",
              "                <dd><code>v3.2.1</code></dd>\n",
              "              <dt>Master</dt>\n",
              "                <dd><code>local[*]</code></dd>\n",
              "              <dt>AppName</dt>\n",
              "                <dd><code>pyspark-shell</code></dd>\n",
              "            </dl>\n",
              "        </div>\n",
              "        \n",
              "            </div>\n",
              "        "
            ]
          },
          "metadata": {},
          "execution_count": 2
        }
      ]
    },
    {
      "cell_type": "code",
      "source": [
        "new_text = \"\"\"In a hole in the ground there lived a hobbit. \n",
        "Not a nasty, dirty, wet hole, filled with the ends of worms and an oozy smell, nor yet a dry, bare, sandy hole with nothing in it to sit down on or to eat: it was a hobbit-hole, and that means comfort.\n",
        "It had a perfectly round door like a porthole, painted green, with a shiny yellow brass knob in the exact middle. \n",
        "The door opened on to a tube-shaped hall like a tunnel: a very comfortable tunnel without smoke, with panelled walls, and floors tiled and carpeted, provided with polished chairs, and lots and lots of pegs for hats and coats - the hobbit was fond of visitors. \n",
        "The tunnel wound on and on, going fairly but not quite straight into the side of the hill - The Hill, as all the people for many miles round called it - and many little round doors opened out of it, first on one side and then on another. \n",
        "No going upstairs for the hobbit: bedrooms, bathrooms, cellars, pantries (lots of these), wardrobes (he had whole rooms devoted to clothes), kitchens, dining-rooms, all were on the same floor, and indeed on the same passage. \n",
        "The best rooms were all on the left-hand side (going in), for these were the only ones to have windows, deep-set round windows looking over his garden and meadows beyond, sloping down to the river.\n",
        "This hobbit was a very well-to-do hobbit, and his name was Baggins. \n",
        "The Bagginses had lived in the neighbourhood of The Hill for time out of mind, and people considered them very respectable, not only because most of them were rich, but also because they never had any adventures or did anything unexpected: you could tell what a Baggins would say on any question without the bother of asking him. \n",
        "This is a story of how a Baggins had an adventure, found himself doing and saying things altogether unexpected. \n",
        "He may have lost the neighbours' respect, but he gained-well, you will see whether he gained anything in the end.\n",
        "The mother of our particular hobbit... what is a hobbit? \n",
        "I suppose hobbits need some description nowadays, since they have become rare and shy of the Big People, as they call us. \n",
        "They are (or were) a little people, about half our height, and smaller than the bearded Dwarves. \n",
        "Hobbits have no beards. \n",
        "There is little or no magic about them, except the ordinary everyday sort which helps them to disappear quietly and quickly when large stupid folk like you and me come blundering along, making a noise like elephants which they can hear a mile off. \n",
        "They are inclined to be at in the stomach; they dress in bright colours (chiefly green and yellow); wear no shoes, because their feet grow natural leathery soles and thick warm brown hair like the stuff on their heads (which is curly); have long clever brown fingers, good-natured faces, and laugh deep fruity laughs (especially after dinner, which they have twice a day when they can get it). \n",
        "Now you know enough to go on with. As I was saying, the mother of this hobbit - of Bilbo Baggins, that is - was the fabulous Belladonna Took, one of the three remarkable daughters of the Old Took, head of the hobbits who lived across The Water, the small river that ran at the foot of The Hill. \n",
        "It was often said (in other families) that long ago one of the Took ancestors must have taken a fairy wife. \n",
        "That was, of course, absurd, but certainly there was still something not entirely hobbit-like about them, - and once in a while members of the Took-clan would go and have adventures. \n",
        "They discreetly disappeared, and the family hushed it up; but the fact remained that the Tooks were not as respectable as the Bagginses, though they were undoubtedly richer. \n",
        "Not that Belladonna Took ever had any adventures after she became Mrs. Bungo Baggins. Bungo, that was Bilbo's father, built the most luxurious hobbit-hole for her (and partly with her money) that was to be found either under The Hill or over The Hill or across The Water, and there they remained to the end of their days. \n",
        "Still it is probable that Bilbo, her only son, although he looked and behaved exactly like a second edition of his solid and comfortable father, got something a bit queer in his makeup from the Took side, something that only waited for a chance to come out. \n",
        "The chance never arrived, until Bilbo Baggins was grown up, being about fifty years old or so, and living in the beautiful hobbit-hole built by his father, which I have just described for you, until he had in fact apparently settled down immovably.\n",
        "By some curious chance one morning long ago in the quiet of the world, when there was less noise and more green, and the hobbits were still numerous and prosperous, and Bilbo Baggins was standing at his door after breakfast smoking an enormous long wooden pipe that reached nearly down to his woolly toes (neatly brushed) - Gandalf came by. \n",
        "Gandalf! If you had heard only a quarter of what I have heard about him, and I have only heard very little of all there is to hear, you would be prepared for any sort I of remarkable tale. \n",
        "Tales and adventures sprouted up all over the place wherever he went, in the most extraordinary fashion. \n",
        "He had not been down that way under The Hill for ages and ages, not since his friend the Old Took died, in fact, and the hobbits had almost forgotten what he looked like. \n",
        "He had been away over The Hill and across The Water on business of his own since they were all small hobbit-boys and hobbit-girls.\n",
        "All that the unsuspecting Bilbo saw that morning was an old man with a staff. \n",
        "He had a tall pointed blue hat, a long grey cloak, a silver scarf over which a white beard hung down below his waist, and immense black boots. \n",
        "\"Good morning!\" said Bilbo, and he meant it. \n",
        "The sun was shining, and the grass was very green. \n",
        "But Gandalf looked at him from under long bushy eyebrows that stuck out further than the brim of his shady hat. \n",
        "\"What do you mean?\" be said. \"Do you wish me a good morning, or mean that it is a good morning whether I want not; or that you feel good this morning; or that it is morning to be good on?\"\n",
        "\"All of them at once,\" said Bilbo. \"And a very fine morning for a pipe of tobacco out of doors, into the bargain. If you have a pipe about you, sit down and have a fill of mine! There's no hurry, we have all the day before us!\" \n",
        "Then Bilbo sat down on a seat by his door, crossed his legs, and blew out a beautiful grey ring of smoke that sailed up into the air without breaking and floated away over The Hill.\n",
        "\"Very pretty!\" said Gandalf. \"But I have no time to blow smoke-rings this morning. I am looking for someone to share in an adventure that I am arranging, and it's very difficult to find anyone.\"\n",
        "I should think so - in these parts! We are plain quiet folk and have no use for adventures. Nasty disturbing uncomfortable things! Make you late for dinner! \n",
        "I can't think what anybody sees in them, said our Mr. Baggins, and stuck one thumb behind his braces, and blew out another even bigger smoke-ring. \n",
        "Then he took out his morning letters, and began to read, pretending to take no more notice of the old man. \n",
        "He had decided that he was not quite his sort, and wanted him to go away. \n",
        "But the old man did not move. \n",
        "He stood leaning on his stick and gazing at the hobbit without saying anything, till Bilbo got quite uncomfortable and even a little cross.\n",
        "\"Good morning!\" he said at last. \"We don't want any adventures here, thank you! You might try over The Hill or across The Water.\" By this he meant that the conversation was at an end.\n",
        "\"What a lot of things you do use Good morning for!\" said Gandalf. \"Now you mean that you want to get rid of me, and that it won't be good till I move off.\"\n",
        "\"Not at all, not at all, my dear sir! Let me see, I don't think I know your name?\"\n",
        "\"Yes, yes, my dear sir - and I do know your name, Mr. Bilbo Baggins. And you do know my name, though you don't remember that I belong to it. I am Gandalf, and Gandalf means me! To think that I should have lived to be good-morninged by Belladonna Took's son, as if I was selling buttons at the door!\" \n",
        "\"Gandalf, Gandalf! Good gracious me! Not the wandering wizard that gave Old Took a pair of magic diamond studs that fastened themselves and never came undone till ordered? Not the fellow who used to tell such wonderful tales at parties, about dragons and goblins and giants and the rescue of princesses and the unexpected luck of widows' sons? Not the man that used to make such particularly excellent fireworks! I remember those! Old Took used to have them on Midsummer's Eve. Splendid! They used to go up like great lilies and snapdragons and laburnums of fire and hang in the twilight all evening!\" \n",
        "You will notice already that Mr. Baggins was not quite so prosy as he liked to believe, also that he was very fond of flowers. \n",
        "\"Dear me!\" He went on. \"Not the Gandalf who was responsible for so many quiet lads and lasses going off into the Blue for mad adventures. Anything from climbing trees to visiting Elves - or sailing in ships, sailing to other shores! Bless me, life used to be quite inter - I mean, you used to upset things badly in these parts once upon a time. I beg your pardon, but I had no idea you were still in business.\" \n",
        "\"Where else should I be?\" said the wizard. \"All the same I am pleased to find you remember something about me. You seem to remember my fireworks kindly, at any rate, and that is not without hope. Indeed for your old grand-father Took's sake, and for the sake of poor Belladonna, I will give you what you asked for.\"\n",
        "\"I beg your pardon, I haven't asked for anything!\"\n",
        "\"Yes, you have! Twice now. My pardon. I give it you. In fact I will go so far as to send you on this adventure. Very amusing for me, very good for you and profitable too, very likely, if you ever get over it.\"\n",
        "\"Sorry! I don't want any adventures, thank you. Not today. Good morning! But please come to tea - any time you like! Why not tomorrow? Come tomorrow! Good-bye!\"\n",
        "With that the hobbit turned and scuttled inside his round green door, and shut it as quickly as he dared, not to seen rude. Wizards after all are wizards.\n",
        "\"What on earth did I ask him to tea for!\" he said to him-self, as he went to the pantry. \n",
        "He had only just had breakfast, but he thought a cake or two and a drink of something would do him good after his fright. \n",
        "Gandalf in the meantime was still standing outside the door, and laughing long but quietly. \n",
        "After a while he stepped up, and with the spike of his staff scratched a queer sign on the hobbit's beautiful green front-door. \n",
        "Then he strode away, just about the time when Bilbo was finishing his second cake and beginning to think that he had escaped adventures very well.\"\"\""
      ],
      "metadata": {
        "id": "lmxr60GqpPoR"
      },
      "execution_count": 3,
      "outputs": []
    },
    {
      "cell_type": "markdown",
      "source": [
        "Create an RDD from the example text above"
      ],
      "metadata": {
        "id": "ejbr2f-cBQCS"
      }
    },
    {
      "cell_type": "code",
      "source": [
        "just_text = new_text.translate(str.maketrans(\"\", \"\", string.punctuation)).replace(\"\\n\", \" \").lower()\n",
        "text_list = just_text.split(\" \")\n",
        "text_rdd = spark.sparkContext.parallelize(text_list)"
      ],
      "metadata": {
        "id": "ppBqYMrZBPgN"
      },
      "execution_count": 4,
      "outputs": []
    },
    {
      "cell_type": "markdown",
      "source": [
        "Find the total number of words"
      ],
      "metadata": {
        "id": "-QBDsbV6ES-8"
      }
    },
    {
      "cell_type": "code",
      "source": [
        "wordcount = text_rdd.count()\n",
        "print(f\"Word count: {wordcount}\")"
      ],
      "metadata": {
        "colab": {
          "base_uri": "https://localhost:8080/"
        },
        "id": "2dODYdXYuRHu",
        "outputId": "009df1ac-f55f-4dd7-ff1c-b65cfa7d710d"
      },
      "execution_count": 5,
      "outputs": [
        {
          "output_type": "stream",
          "name": "stdout",
          "text": [
            "Word count: 2014\n"
          ]
        }
      ]
    },
    {
      "cell_type": "markdown",
      "source": [
        "Find all unique words"
      ],
      "metadata": {
        "id": "O8yG_nqouWxa"
      }
    },
    {
      "cell_type": "code",
      "source": [
        "distinctcount = text_rdd.distinct().count()\n",
        "print(f\"Distinct count: {distinctcount}\")"
      ],
      "metadata": {
        "id": "ha5sPMFEExzq",
        "colab": {
          "base_uri": "https://localhost:8080/"
        },
        "outputId": "31115a90-3a12-463d-be2f-a3cfcac1951e"
      },
      "execution_count": 6,
      "outputs": [
        {
          "output_type": "stream",
          "name": "stdout",
          "text": [
            "Distinct count: 658\n"
          ]
        }
      ]
    },
    {
      "cell_type": "markdown",
      "source": [
        "Find the top 5 most used words"
      ],
      "metadata": {
        "id": "Lh_UBusoF2PR"
      }
    },
    {
      "cell_type": "code",
      "source": [
        "ones_rdd = text_rdd.map((lambda word: (word, 1)))\n",
        "counts_rdd = ones_rdd.reduceByKey(add).sortByKey()\n",
        "sorted_counts_rdd = counts_rdd.map(lambda x: (x[1], x[0])).sortByKey(ascending=False)\n",
        "sorted_counts_rdd.collect()[0:5]"
      ],
      "metadata": {
        "id": "yjuu5o5AF3C3",
        "colab": {
          "base_uri": "https://localhost:8080/"
        },
        "outputId": "18611028-6b3e-4efc-ee66-ccff924f343a"
      },
      "execution_count": 7,
      "outputs": [
        {
          "output_type": "execute_result",
          "data": {
            "text/plain": [
              "[(95, 'the'), (77, 'and'), (55, ''), (47, 'a'), (46, 'of')]"
            ]
          },
          "metadata": {},
          "execution_count": 7
        }
      ]
    },
    {
      "cell_type": "markdown",
      "source": [
        "Filter out the most common english words (the, is, a, to, be, etc.)\n",
        "\n",
        "FInd the top five most used words in the filtered rdd"
      ],
      "metadata": {
        "id": "BOGvPMI6FHCa"
      }
    },
    {
      "cell_type": "code",
      "source": [
        "common_words = [\n",
        "                'the', 'of', 'and', 'a', 'to', 'in', 'is', 'you', 'that', 'it', 'he', 'was', 'for', 'on', 'are', 'as', 'with', 'his', 'they', 'i',\n",
        "                'not', 'have', 'had', 'at', 'or', '', 'but'\n",
        "]\n",
        "\n",
        "uncommon_list = filter(lambda word: word not in common_words, text_rdd.collect())\n",
        "uncommon_rdd = spark.sparkContext.parallelize(uncommon_list)\n",
        "\n",
        "uncommon_ones_rdd = uncommon_rdd.map((lambda word: (word, 1)))\n",
        "uncommon_counts_rdd = uncommon_ones_rdd.reduceByKey(add).sortByKey()\n",
        "uncommon_sorted_counts_rdd = uncommon_counts_rdd.map(lambda x: (x[1], x[0])).sortByKey(ascending=False)\n",
        "uncommon_sorted_counts_rdd.collect()[0:5]\n"
      ],
      "metadata": {
        "id": "pyZ9aI36E15P",
        "colab": {
          "base_uri": "https://localhost:8080/"
        },
        "outputId": "063bbd5e-0ac5-461f-c760-dfc4a2b98300"
      },
      "execution_count": 8,
      "outputs": [
        {
          "output_type": "execute_result",
          "data": {
            "text/plain": [
              "[(14, 'all'), (13, 'morning'), (13, 'very'), (12, 'good'), (11, 'bilbo')]"
            ]
          },
          "metadata": {},
          "execution_count": 8
        }
      ]
    },
    {
      "cell_type": "markdown",
      "source": [
        "Return the longest word"
      ],
      "metadata": {
        "id": "8TZ7kfryGFWF"
      }
    },
    {
      "cell_type": "code",
      "source": [
        "longest = 0\n",
        "longest_word = \"\"\n",
        "for w in text_rdd.collect():\n",
        "  if len(w) > longest:\n",
        "    longest = len(w)\n",
        "    longest_word = w\n",
        "print(f\"The longest word is {longest_word} at {longest} characters.\")"
      ],
      "metadata": {
        "id": "WZy8-AzIGC7B",
        "colab": {
          "base_uri": "https://localhost:8080/"
        },
        "outputId": "0ea4e5a8-8b60-47e7-de5b-4ee18d209bb4"
      },
      "execution_count": 9,
      "outputs": [
        {
          "output_type": "stream",
          "name": "stdout",
          "text": [
            "The longest word is neighbourhood at 13 characters.\n"
          ]
        }
      ]
    },
    {
      "cell_type": "markdown",
      "source": [
        "Find all words that are common to the above string and the following string\n",
        "\n",
        "Find all words unique to the first string, and all words unique to the second string"
      ],
      "metadata": {
        "id": "uXkLxRpkGNeV"
      }
    },
    {
      "cell_type": "code",
      "source": [
        "compare_string = \"\"\"It was on May the First that the two came back at last to the brink of the valley of Rivendell, where stood the Last (or the First) Homely House. \n",
        "Again it was evening, their ponies were tired, especially the one that carried the baggage; and they all felt in need of rest. \n",
        "As they rode down the steep path, Bilbo heard the elves still singing in the trees, as if they had not stopped since he left; and as soon as their riders came down into the lower glades of the wood they burst into a song of much the same kind as before. \n",
        "This is something like it:\n",
        "The dragon is withered,\n",
        "His bones are now crumbled;\n",
        "His armour is shivered,\n",
        "His splendour is humbled!\n",
        "Though sword shall be rusted,\n",
        "And throne and crown perish\n",
        "With strength that men trusted\n",
        "And wealth that they cherish,\n",
        "Here grass is still growing,\n",
        "And leaves are yet swinging,\n",
        "The white water flowing,\n",
        "And elves are yet singing\n",
        "Come! Tra­la­la­lally!\n",
        "Come back to the valley!\n",
        "The stars are far brighter\n",
        "Than gems without measure,\n",
        "The moon is far whiter\n",
        "Than silver in treasure:\n",
        "The fire is more shining\n",
        "On hearth in the gloaming\n",
        "Than gold won by mining,\n",
        "So why go a­roaming?\n",
        "O! Tra­la­la­lally\n",
        "Come back to the Valley.\n",
        "O! Where are you going,\n",
        "So late in returning?\n",
        "The river is flowing,\n",
        "The stars are all burning!\n",
        "O! Whither so laden,\n",
        "So sad and so dreary?\n",
        "Here elf and elf­maiden\n",
        "Now welcome the weary\n",
        "With Tra­la­la­lally\n",
        "Come back to the Valley,\n",
        "Tra­la­la­lally\n",
        "Fa­la­la­lally\n",
        "Fa­la!\n",
        "Then the elves of the valley came out and greeted them and led them across the water to the house of Elrond. \n",
        "There a warm welcome was made them, and there were many eager ears that evening to hear the tale of their adventures. \n",
        "Gandalf it was who spoke, for Bilbo was fallen quiet and drowsy. \n",
        "Most of the tale he knew, for he had been in it, and had himself told much of it to the wizard on their homeward way or in the house of Beorn; but every now and again he would open one eye, and listen, when a part of the story which he did not yet know came in. \n",
        "It was in this way that he learned where Gandalf had been to; for he overheard the words of the wizard to Elrond. \n",
        "It appeared that Gandalf had been to a great council of the white wizards, masters of lore and good magic; and that they had at last driven the Necromancer from his dark hold in the south of Mirkwood.\"\"\""
      ],
      "metadata": {
        "id": "8-HC1KEKGTnT"
      },
      "execution_count": 10,
      "outputs": []
    },
    {
      "cell_type": "code",
      "source": [
        "compare_text = compare_string.translate(str.maketrans(\"\", \"\", string.punctuation)).replace(\"\\n\", \" \").lower()\n",
        "compare_list = compare_text.split(\" \")\n",
        "compare_rdd = spark.sparkContext.parallelize(compare_list)"
      ],
      "metadata": {
        "id": "FW1QX90zGVg2"
      },
      "execution_count": 11,
      "outputs": []
    },
    {
      "cell_type": "code",
      "source": [
        "compare_ones_rdd = compare_rdd.map((lambda word: (word, 1)))\n",
        "compare_counts_rdd = compare_ones_rdd.reduceByKey(add).sortByKey()\n",
        "compare_sorted_counts_rdd = compare_counts_rdd.map(lambda x: (x[1], x[0])).sortByKey(ascending=False)\n",
        "compare_sorted_counts_rdd.collect()[0:5]"
      ],
      "metadata": {
        "colab": {
          "base_uri": "https://localhost:8080/"
        },
        "id": "1HuAjfkz164A",
        "outputId": "be56d99c-2879-4936-a3ca-7895da9a9c7f"
      },
      "execution_count": 12,
      "outputs": [
        {
          "output_type": "execute_result",
          "data": {
            "text/plain": [
              "[(40, 'the'), (18, 'and'), (16, 'of'), (10, 'in'), (9, 'to')]"
            ]
          },
          "metadata": {},
          "execution_count": 12
        }
      ]
    },
    {
      "cell_type": "code",
      "source": [
        "compare_uncommon_list = filter(lambda word: word not in common_words, compare_rdd.collect())\n",
        "compare_uncommon_rdd = spark.sparkContext.parallelize(compare_uncommon_list)\n",
        "\n",
        "compare_uncommon_ones_rdd = compare_uncommon_rdd.map((lambda word: (word, 1)))\n",
        "compare_uncommon_counts_rdd = compare_uncommon_ones_rdd.reduceByKey(add).sortByKey()\n",
        "compare_uncommon_sorted_counts_rdd = compare_uncommon_counts_rdd.map(lambda x: (x[1], x[0])).sortByKey(ascending=False)\n",
        "compare_uncommon_sorted_counts_rdd.collect()[0:5]"
      ],
      "metadata": {
        "colab": {
          "base_uri": "https://localhost:8080/"
        },
        "id": "xDFb_Q9b2RQK",
        "outputId": "0b7e0493-0670-4a32-8859-061db94b174c"
      },
      "execution_count": 13,
      "outputs": [
        {
          "output_type": "execute_result",
          "data": {
            "text/plain": [
              "[(5, 'so'), (5, 'valley'), (4, 'back'), (4, 'came'), (4, 'come')]"
            ]
          },
          "metadata": {},
          "execution_count": 13
        }
      ]
    },
    {
      "cell_type": "code",
      "source": [
        "chapter1 = uncommon_rdd.distinct().collect()\n",
        "chapter19 = compare_uncommon_rdd.distinct().collect()\n",
        "common_words = []\n",
        "unique_to_chapter1 = []\n",
        "unique_to_chapter19 = []\n",
        "for word in chapter1:\n",
        "  if word in chapter19:\n",
        "    common_words.append(word)\n",
        "  else:\n",
        "    unique_to_chapter1.append(word)\n",
        "\n",
        "for word in chapter19:\n",
        "  if word not in chapter1:\n",
        "    unique_to_chapter19.append(word)"
      ],
      "metadata": {
        "id": "hI4RyIDs2kGQ"
      },
      "execution_count": 14,
      "outputs": []
    },
    {
      "cell_type": "code",
      "source": [
        "print(common_words)"
      ],
      "metadata": {
        "colab": {
          "base_uri": "https://localhost:8080/"
        },
        "id": "SUMShw4G51rg",
        "outputId": "ac79f114-d143-4a9d-f20e-f363c76bfff1"
      },
      "execution_count": 15,
      "outputs": [
        {
          "output_type": "stream",
          "name": "stdout",
          "text": [
            "['there', 'yet', 'down', 'like', 'into', 'out', 'this', 'them', 'adventures', 'would', 'story', 'may', 'than', 'when', 'hear', 'especially', 'now', 'know', 'go', 'bilbo', 'water', 'something', 'though', 'quiet', 'more', 'gandalf', 'came', 'heard', 'way', 'silver', 'good', 'shining', 'grass', 'before', 'late', 'stood', 'last', 'wizard', 'fire', 'where', 'far', 'why', 'two', 'without', 'going', 'all', 'many', 'first', 'one', 'then', 'were', 'same', 'river', 'most', 'did', 'himself', 'need', 'since', 'which', 'come', 'be', 'their', 'warm', 'who', 'across', 'still', 'from', 'so', 'by', 'if', 'tale', 'been', 'white', 'here', 'great', 'evening', 'trees', 'elves', 'wizards']\n"
          ]
        }
      ]
    },
    {
      "cell_type": "code",
      "source": [
        "print(unique_to_chapter1)"
      ],
      "metadata": {
        "colab": {
          "base_uri": "https://localhost:8080/"
        },
        "id": "fKNSLVKZ6NRT",
        "outputId": "c2450dfc-8622-4f06-fb34-27e8c4ccedb8"
      },
      "execution_count": 16,
      "outputs": [
        {
          "output_type": "stream",
          "name": "stdout",
          "text": [
            "['hole', 'ground', 'lived', 'nasty', 'wet', 'filled', 'ends', 'worms', 'an', 'smell', 'nor', 'means', 'perfectly', 'round', 'painted', 'green', 'shiny', 'yellow', 'brass', 'knob', 'middle', 'opened', 'tubeshaped', 'very', 'comfortable', 'walls', 'carpeted', 'lots', 'hats', 'fond', 'fairly', 'quite', 'miles', 'no', 'bathrooms', 'these', 'rooms', 'devoted', 'kitchens', 'diningrooms', 'floor', 'indeed', 'best', 'only', 'deepset', 'looking', 'garden', 'meadows', 'beyond', 'welltodo', 'name', 'neighbourhood', 'mind', 'considered', 'never', 'anything', 'unexpected', 'tell', 'say', 'question', 'saying', 'things', 'altogether', 'lost', 'neighbours', 'gainedwell', 'end', 'particular', 'suppose', 'hobbits', 'description', 'become', 'rare', 'shy', 'call', 'us', 'dwarves', 'beards', 'quietly', 'quickly', 'large', 'stupid', 'blundering', 'making', 'elephants', 'mile', 'inclined', 'dress', 'bright', 'wear', 'shoes', 'leathery', 'thick', 'hair', 'long', 'fingers', 'laugh', 'after', 'fabulous', 'belladonna', 'took', 'three', 'daughters', 'head', 'ran', 'said', 'other', 'families', 'ago', 'ancestors', 'must', 'fairy', 'certainly', 'hobbitlike', 'once', 'members', 'tookclan', 'discreetly', 'family', 'tooks', 'ever', 'bilbos', 'father', 'luxurious', 'her', 'partly', 'money', 'days', 'son', 'although', 'looked', 'behaved', 'exactly', 'edition', 'got', 'chance', 'until', 'years', 'living', 'just', 'apparently', 'settled', 'curious', 'world', 'prosperous', 'reached', 'toes', 'neatly', 'brushed', 'quarter', 'prepared', 'sprouted', 'wherever', 'away', 'business', 'own', 'hobbitgirls', 'unsuspecting', 'staff', 'pointed', 'hat', 'grey', 'cloak', 'scarf', 'hung', 'below', 'waist', 'immense', 'boots', 'sun', 'bushy', 'stuck', 'further', 'brim', 'shady', 'do', 'mean', 'feel', 'fine', 'tobacco', 'fill', 'theres', 'hurry', 'we', 'sat', 'crossed', 'blew', 'sailed', 'floated', 'pretty', 'smokerings', 'am', 'share', 'anyone', 'think', 'use', 'uncomfortable', 'make', 'anybody', 'mr', 'thumb', 'braces', 'even', 'letters', 'read', 'take', 'decided', 'move', 'leaning', 'till', 'cross', 'try', 'conversation', 'rid', 'let', 'yes', 'belong', 'selling', 'gave', 'fastened', 'themselves', 'used', 'wonderful', 'particularly', 'excellent', 'midsummers', 'eve', 'snapdragons', 'laburnums', 'hang', 'already', 'liked', 'believe', 'flowers', 'responsible', 'lasses', 'climbing', 'sailing', 'ships', 'shores', 'inter', 'upset', 'badly', 'upon', 'pardon', 'idea', 'pleased', 'rate', 'poor', 'give', 'send', 'likely', 'tomorrow', 'goodbye', 'turned', 'seen', 'earth', 'ask', 'pantry', 'thought', 'fright', 'stepped', 'scratched', 'sign', 'strode', 'finishing', 'hobbit', 'dirty', 'oozy', 'dry', 'bare', 'sandy', 'nothing', 'sit', 'eat', 'hobbithole', 'comfort', 'door', 'porthole', 'exact', 'hall', 'tunnel', 'smoke', 'panelled', 'floors', 'tiled', 'provided', 'polished', 'chairs', 'pegs', 'coats', 'visitors', 'wound', 'straight', 'side', 'hill', 'people', 'called', 'little', 'doors', 'another', 'upstairs', 'bedrooms', 'cellars', 'pantries', 'wardrobes', 'whole', 'clothes', 'passage', 'lefthand', 'ones', 'windows', 'over', 'sloping', 'baggins', 'bagginses', 'time', 'respectable', 'because', 'rich', 'also', 'any', 'could', 'what', 'bother', 'asking', 'him', 'how', 'adventure', 'found', 'doing', 'respect', 'will', 'see', 'whether', 'gained', 'mother', 'our', 'some', 'nowadays', 'big', 'about', 'half', 'height', 'smaller', 'bearded', 'magic', 'except', 'ordinary', 'everyday', 'sort', 'helps', 'disappear', 'folk', 'me', 'along', 'noise', 'can', 'off', 'stomach', 'colours', 'chiefly', 'feet', 'grow', 'natural', 'soles', 'brown', 'stuff', 'heads', 'curly', 'clever', 'goodnatured', 'faces', 'deep', 'fruity', 'laughs', 'dinner', 'twice', 'day', 'get', 'enough', 'remarkable', 'old', 'small', 'foot', 'often', 'taken', 'wife', 'course', 'absurd', 'entirely', 'while', 'disappeared', 'hushed', 'up', 'fact', 'remained', 'undoubtedly', 'richer', 'she', 'became', 'mrs', 'bungo', 'built', 'either', 'under', 'probable', 'second', 'solid', 'bit', 'queer', 'makeup', 'waited', 'arrived', 'grown', 'being', 'fifty', 'beautiful', 'described', 'immovably', 'morning', 'less', 'numerous', 'standing', 'breakfast', 'smoking', 'enormous', 'wooden', 'pipe', 'nearly', 'woolly', 'tales', 'place', 'went', 'extraordinary', 'fashion', 'ages', 'friend', 'died', 'almost', 'forgotten', 'hobbitboys', 'saw', 'man', 'tall', 'blue', 'beard', 'black', 'meant', 'eyebrows', 'wish', 'want', 'bargain', 'mine', 'seat', 'legs', 'ring', 'air', 'breaking', 'blow', 'someone', 'arranging', 'its', 'difficult', 'find', 'should', 'parts', 'plain', 'disturbing', 'cant', 'sees', 'behind', 'bigger', 'smokering', 'began', 'pretending', 'notice', 'wanted', 'stick', 'gazing', 'dont', 'thank', 'might', 'lot', 'wont', 'my', 'dear', 'sir', 'your', 'remember', 'goodmorninged', 'buttons', 'gracious', 'wandering', 'pair', 'diamond', 'studs', 'undone', 'ordered', 'fellow', 'such', 'parties', 'dragons', 'goblins', 'giants', 'rescue', 'princesses', 'luck', 'widows', 'sons', 'fireworks', 'those', 'splendid', 'lilies', 'twilight', 'prosy', 'lads', 'mad', 'visiting', 'bless', 'life', 'beg', 'else', 'seem', 'kindly', 'hope', 'grandfather', 'sake', 'asked', 'havent', 'amusing', 'profitable', 'too', 'sorry', 'today', 'please', 'tea', 'scuttled', 'inside', 'shut', 'dared', 'rude', 'cake', 'drink', 'meantime', 'outside', 'laughing', 'spike', 'frontdoor', 'beginning', 'escaped', 'well']\n"
          ]
        }
      ]
    },
    {
      "cell_type": "code",
      "source": [
        "print(unique_to_chapter19)"
      ],
      "metadata": {
        "colab": {
          "base_uri": "https://localhost:8080/"
        },
        "id": "UHr6QDIM6agC",
        "outputId": "ac6f0ab8-3ad0-47db-fdae-6a50b6305345"
      },
      "execution_count": 17,
      "outputs": [
        {
          "output_type": "stream",
          "name": "stdout",
          "text": [
            "['valley', 'rivendell', 'house', 'again', 'carried', 'baggage;', 'felt', 'rest', 'path', 'singing', 'stopped', 'lower', 'wood', 'burst', 'kind', 'dragon', 'bones', 'shivered', 'rusted', 'throne', 'strength', 'trusted', 'wealth', 'leaves', 'gems', 'measure', 'whiter', 'treasure', 'gloaming', 'gold', 'mining', 'burning', 'sad', 'elf\\xadmaiden', 'weary', 'fa\\xadla', 'greeted', 'led', 'elrond', 'ears', 'spoke', 'drowsy', 'told', 'homeward', 'beorn;', 'open', 'to;', 'necromancer', 'dark', 'back', 'brink', 'homely', 'ponies', 'tired', 'rode', 'steep', 'left;', 'soon', 'riders', 'glades', 'song', 'much', 'withered', 'crumbled;', 'armour', 'splendour', 'humbled', 'sword', 'shall', 'crown', 'perish', 'men', 'cherish', 'growing', 'swinging', 'flowing', 'tra\\xadla\\xadla\\xadlally', 'stars', 'brighter', 'moon', 'hearth', 'won', 'a\\xadroaming', 'o', 'returning', 'whither', 'laden', 'dreary', 'elf', 'welcome', 'fa\\xadla\\xadla\\xadlally', 'made', 'eager', 'fallen', 'knew', 'every', 'eye', 'listen', 'part', 'learned', 'overheard', 'words', 'appeared', 'council', 'masters', 'lore', 'magic;', 'driven', 'hold', 'south', 'mirkwood']\n"
          ]
        }
      ]
    },
    {
      "cell_type": "markdown",
      "source": [
        "Create an rdd of the temperatures for the next 7 days as taked from the weather.gov api\n",
        "\n",
        "Return an rdd of those temperatures in C\n",
        "\n",
        "Calculate the mean, max, min and standard deviation of temperatures\n",
        "\n",
        "Return an RDD of the temperatures within one standard deviation of the mean\n",
        "\n"
      ],
      "metadata": {
        "id": "GyCQm8fCGS4w"
      }
    },
    {
      "cell_type": "code",
      "source": [
        "!pip install requests\n",
        "!pip install geocoder"
      ],
      "metadata": {
        "id": "G7DUDdlbJ2lK",
        "colab": {
          "base_uri": "https://localhost:8080/"
        },
        "outputId": "f267f7eb-e608-4742-a89c-b896db33399e"
      },
      "execution_count": 18,
      "outputs": [
        {
          "output_type": "stream",
          "name": "stdout",
          "text": [
            "Requirement already satisfied: requests in /usr/local/lib/python3.7/dist-packages (2.23.0)\n",
            "Requirement already satisfied: certifi>=2017.4.17 in /usr/local/lib/python3.7/dist-packages (from requests) (2021.10.8)\n",
            "Requirement already satisfied: chardet<4,>=3.0.2 in /usr/local/lib/python3.7/dist-packages (from requests) (3.0.4)\n",
            "Requirement already satisfied: urllib3!=1.25.0,!=1.25.1,<1.26,>=1.21.1 in /usr/local/lib/python3.7/dist-packages (from requests) (1.24.3)\n",
            "Requirement already satisfied: idna<3,>=2.5 in /usr/local/lib/python3.7/dist-packages (from requests) (2.10)\n",
            "Requirement already satisfied: geocoder in /usr/local/lib/python3.7/dist-packages (1.38.1)\n",
            "Requirement already satisfied: click in /usr/local/lib/python3.7/dist-packages (from geocoder) (7.1.2)\n",
            "Requirement already satisfied: requests in /usr/local/lib/python3.7/dist-packages (from geocoder) (2.23.0)\n",
            "Requirement already satisfied: future in /usr/local/lib/python3.7/dist-packages (from geocoder) (0.16.0)\n",
            "Requirement already satisfied: ratelim in /usr/local/lib/python3.7/dist-packages (from geocoder) (0.1.6)\n",
            "Requirement already satisfied: six in /usr/local/lib/python3.7/dist-packages (from geocoder) (1.15.0)\n",
            "Requirement already satisfied: decorator in /usr/local/lib/python3.7/dist-packages (from ratelim->geocoder) (4.4.2)\n",
            "Requirement already satisfied: idna<3,>=2.5 in /usr/local/lib/python3.7/dist-packages (from requests->geocoder) (2.10)\n",
            "Requirement already satisfied: certifi>=2017.4.17 in /usr/local/lib/python3.7/dist-packages (from requests->geocoder) (2021.10.8)\n",
            "Requirement already satisfied: chardet<4,>=3.0.2 in /usr/local/lib/python3.7/dist-packages (from requests->geocoder) (3.0.4)\n",
            "Requirement already satisfied: urllib3!=1.25.0,!=1.25.1,<1.26,>=1.21.1 in /usr/local/lib/python3.7/dist-packages (from requests->geocoder) (1.24.3)\n"
          ]
        }
      ]
    },
    {
      "cell_type": "code",
      "source": [
        "import requests\n",
        "import geocoder"
      ],
      "metadata": {
        "id": "herWyGp690fV"
      },
      "execution_count": 19,
      "outputs": []
    },
    {
      "cell_type": "code",
      "source": [
        "g = geocoder.ip('me')\n",
        "latitude, longitude = g.latlng\n",
        "print(f\"\"\"Latitude: {latitude}\n",
        "Longitude: {longitude}\"\"\")"
      ],
      "metadata": {
        "colab": {
          "base_uri": "https://localhost:8080/"
        },
        "id": "A7q9NkPl93nJ",
        "outputId": "13e45dfa-b80f-4ccf-c6ed-c979196060b8"
      },
      "execution_count": 20,
      "outputs": [
        {
          "output_type": "stream",
          "name": "stdout",
          "text": [
            "Latitude: 32.8546\n",
            "Longitude: -79.9748\n"
          ]
        }
      ]
    },
    {
      "cell_type": "code",
      "source": [
        "r = requests.get(f\"https://api.weather.gov/points/{latitude},{longitude}\")\n",
        "forecast_uri = r.json()[\"properties\"][\"forecast\"]\n",
        "\n",
        "r = requests.get(forecast_uri)\n",
        "forecast_week = r.json()[\"properties\"][\"periods\"]\n",
        "\n",
        "week_temps = [f['temperature'] for f in forecast_week]\n",
        "\n",
        "temp_rdd = spark.sparkContext.parallelize(week_temps)"
      ],
      "metadata": {
        "id": "0Qg6IjSz-mUT"
      },
      "execution_count": 21,
      "outputs": []
    },
    {
      "cell_type": "code",
      "source": [
        "C_rdd = temp_rdd.map(lambda F: round((F-32)*(5/9), 1))\n",
        "C_rdd.collect()"
      ],
      "metadata": {
        "colab": {
          "base_uri": "https://localhost:8080/"
        },
        "id": "aeEXrAz1_9sY",
        "outputId": "3c007316-c148-41fa-94b2-827b31913957"
      },
      "execution_count": 22,
      "outputs": [
        {
          "output_type": "execute_result",
          "data": {
            "text/plain": [
              "[22.8,\n",
              " 17.8,\n",
              " 25.6,\n",
              " 17.8,\n",
              " 27.8,\n",
              " 18.9,\n",
              " 30.0,\n",
              " 20.6,\n",
              " 31.1,\n",
              " 20.0,\n",
              " 31.7,\n",
              " 20.0,\n",
              " 32.8,\n",
              " 21.7]"
            ]
          },
          "metadata": {},
          "execution_count": 22
        }
      ]
    },
    {
      "cell_type": "code",
      "source": [
        "def stats(rdd):\n",
        "  mean = rdd.mean()\n",
        "  max = rdd.max()\n",
        "  min = rdd.min()\n",
        "  stdev = rdd.stdev()\n",
        "  sigma_bounds = [mean-stdev, mean+stdev]\n",
        "  sig_range_10 = range(int(sigma_bounds[0]*10), int(sigma_bounds[1]*10))\n",
        "  sig_range = [i/10 for i in sig_range_10]\n",
        "  sig1 = []\n",
        "  for i in rdd.collect():\n",
        "    if i in sig_range:\n",
        "      sig1.append(i)\n",
        "  print(f\"\"\"Mean: {mean}\n",
        "Maximum: {max}\n",
        "Minimum: {min}\n",
        "Standard Deviation: {stdev}\n",
        "Sigma Boundaries: {sigma_bounds}\n",
        "Sigma One: {sig1}\n",
        "\"\"\")"
      ],
      "metadata": {
        "id": "q8A-gHpeAbr6"
      },
      "execution_count": 23,
      "outputs": []
    },
    {
      "cell_type": "code",
      "source": [
        "print(\"Weekly F stats:\")\n",
        "stats(temp_rdd)"
      ],
      "metadata": {
        "colab": {
          "base_uri": "https://localhost:8080/"
        },
        "id": "h5phh3WUCdzC",
        "outputId": "8abe6932-60a3-4597-f9a8-9d6570d4c8a9"
      },
      "execution_count": 24,
      "outputs": [
        {
          "output_type": "stream",
          "name": "stdout",
          "text": [
            "Weekly F stats:\n",
            "Mean: 75.5\n",
            "Maximum: 91\n",
            "Minimum: 64\n",
            "Standard Deviation: 9.537519893257665\n",
            "Sigma Boundaries: [65.96248010674233, 85.03751989325767]\n",
            "Sigma One: [73, 78, 82, 66, 69, 68, 68, 71]\n",
            "\n"
          ]
        }
      ]
    },
    {
      "cell_type": "code",
      "source": [
        "print(\"Weekly C stats:\")\n",
        "stats(C_rdd)"
      ],
      "metadata": {
        "colab": {
          "base_uri": "https://localhost:8080/"
        },
        "id": "3zUQ2uP6ECSN",
        "outputId": "fbc72e72-5500-4da2-b834-18b0e134ccc3"
      },
      "execution_count": 25,
      "outputs": [
        {
          "output_type": "stream",
          "name": "stdout",
          "text": [
            "Weekly C stats:\n",
            "Mean: 24.185714285714283\n",
            "Maximum: 32.8\n",
            "Minimum: 17.8\n",
            "Standard Deviation: 5.297149791951077\n",
            "Sigma Boundaries: [18.888564493763205, 29.48286407766536]\n",
            "Sigma One: [22.8, 25.6, 27.8, 18.9, 20.6, 20.0, 20.0, 21.7]\n",
            "\n"
          ]
        }
      ]
    }
  ]
}
